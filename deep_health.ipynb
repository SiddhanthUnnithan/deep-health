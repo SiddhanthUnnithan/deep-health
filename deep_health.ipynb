{
 "cells": [
  {
   "cell_type": "code",
   "execution_count": 232,
   "metadata": {
    "collapsed": true
   },
   "outputs": [],
   "source": [
    "from __future__ import division\n",
    "\n",
    "import pandas as pd\n",
    "import numpy as np\n",
    "%matplotlib inline\n",
    "\n",
    "# model imports\n",
    "from sklearn.linear_model import SGDRegressor, LinearRegression\n",
    "from sklearn.svm import LinearSVR, SVR\n",
    "from sklearn.ensemble import ExtraTreesRegressor, RandomForestRegressor, GradientBoostingRegressor, AdaBoostRegressor\n",
    "\n",
    "# feature selection and preprocessing\n",
    "from sklearn.feature_selection import SelectFromModel\n",
    "\n",
    "# cross validation and grid search\n",
    "from sklearn.cross_validation import StratifiedShuffleSplit\n",
    "from sklearn.grid_search import GridSearchCV\n",
    "\n",
    "# metrics\n",
    "from sklearn.metrics import mean_squared_error, mean_absolute_error, r2_score"
   ]
  },
  {
   "cell_type": "code",
   "execution_count": 233,
   "metadata": {
    "collapsed": false
   },
   "outputs": [],
   "source": [
    "df = pd.read_csv(\"diabetes-training.csv\")"
   ]
  },
  {
   "cell_type": "code",
   "execution_count": 234,
   "metadata": {
    "collapsed": false
   },
   "outputs": [
    {
     "data": {
      "text/html": [
       "<div>\n",
       "<table border=\"1\" class=\"dataframe\">\n",
       "  <thead>\n",
       "    <tr style=\"text-align: right;\">\n",
       "      <th></th>\n",
       "      <th>encounter_id</th>\n",
       "      <th>patient_nbr</th>\n",
       "      <th>race</th>\n",
       "      <th>gender</th>\n",
       "      <th>age</th>\n",
       "      <th>weight</th>\n",
       "      <th>admission_type_id</th>\n",
       "      <th>discharge_disposition_id</th>\n",
       "      <th>admission_source_id</th>\n",
       "      <th>time_in_hospital</th>\n",
       "      <th>...</th>\n",
       "      <th>citoglipton</th>\n",
       "      <th>insulin</th>\n",
       "      <th>glyburide-metformin</th>\n",
       "      <th>glipizide-metformin</th>\n",
       "      <th>glimepiride-pioglitazone</th>\n",
       "      <th>metformin-rosiglitazone</th>\n",
       "      <th>metformin-pioglitazone</th>\n",
       "      <th>change</th>\n",
       "      <th>diabetesMed</th>\n",
       "      <th>readmitted</th>\n",
       "    </tr>\n",
       "  </thead>\n",
       "  <tbody>\n",
       "    <tr>\n",
       "      <th>0</th>\n",
       "      <td>2278392.0</td>\n",
       "      <td>8222157.0</td>\n",
       "      <td>Caucasian</td>\n",
       "      <td>Female</td>\n",
       "      <td>[0-10)</td>\n",
       "      <td>?</td>\n",
       "      <td>6.0</td>\n",
       "      <td>25.0</td>\n",
       "      <td>1.0</td>\n",
       "      <td>1.0</td>\n",
       "      <td>...</td>\n",
       "      <td>No</td>\n",
       "      <td>No</td>\n",
       "      <td>No</td>\n",
       "      <td>No</td>\n",
       "      <td>No</td>\n",
       "      <td>No</td>\n",
       "      <td>No</td>\n",
       "      <td>No</td>\n",
       "      <td>No</td>\n",
       "      <td>NO</td>\n",
       "    </tr>\n",
       "    <tr>\n",
       "      <th>1</th>\n",
       "      <td>149190.0</td>\n",
       "      <td>55629189.0</td>\n",
       "      <td>Caucasian</td>\n",
       "      <td>Female</td>\n",
       "      <td>[10-20)</td>\n",
       "      <td>?</td>\n",
       "      <td>1.0</td>\n",
       "      <td>1.0</td>\n",
       "      <td>7.0</td>\n",
       "      <td>3.0</td>\n",
       "      <td>...</td>\n",
       "      <td>No</td>\n",
       "      <td>Up</td>\n",
       "      <td>No</td>\n",
       "      <td>No</td>\n",
       "      <td>No</td>\n",
       "      <td>No</td>\n",
       "      <td>No</td>\n",
       "      <td>Ch</td>\n",
       "      <td>Yes</td>\n",
       "      <td>&gt;30</td>\n",
       "    </tr>\n",
       "    <tr>\n",
       "      <th>2</th>\n",
       "      <td>64410.0</td>\n",
       "      <td>86047875.0</td>\n",
       "      <td>AfricanAmerican</td>\n",
       "      <td>Female</td>\n",
       "      <td>[20-30)</td>\n",
       "      <td>?</td>\n",
       "      <td>1.0</td>\n",
       "      <td>1.0</td>\n",
       "      <td>7.0</td>\n",
       "      <td>2.0</td>\n",
       "      <td>...</td>\n",
       "      <td>No</td>\n",
       "      <td>No</td>\n",
       "      <td>No</td>\n",
       "      <td>No</td>\n",
       "      <td>No</td>\n",
       "      <td>No</td>\n",
       "      <td>No</td>\n",
       "      <td>No</td>\n",
       "      <td>Yes</td>\n",
       "      <td>NO</td>\n",
       "    </tr>\n",
       "    <tr>\n",
       "      <th>3</th>\n",
       "      <td>500364.0</td>\n",
       "      <td>82442376.0</td>\n",
       "      <td>Caucasian</td>\n",
       "      <td>Male</td>\n",
       "      <td>[30-40)</td>\n",
       "      <td>?</td>\n",
       "      <td>1.0</td>\n",
       "      <td>1.0</td>\n",
       "      <td>7.0</td>\n",
       "      <td>2.0</td>\n",
       "      <td>...</td>\n",
       "      <td>No</td>\n",
       "      <td>Up</td>\n",
       "      <td>No</td>\n",
       "      <td>No</td>\n",
       "      <td>No</td>\n",
       "      <td>No</td>\n",
       "      <td>No</td>\n",
       "      <td>Ch</td>\n",
       "      <td>Yes</td>\n",
       "      <td>NO</td>\n",
       "    </tr>\n",
       "    <tr>\n",
       "      <th>4</th>\n",
       "      <td>16680.0</td>\n",
       "      <td>42519267.0</td>\n",
       "      <td>Caucasian</td>\n",
       "      <td>Male</td>\n",
       "      <td>[40-50)</td>\n",
       "      <td>?</td>\n",
       "      <td>1.0</td>\n",
       "      <td>1.0</td>\n",
       "      <td>7.0</td>\n",
       "      <td>1.0</td>\n",
       "      <td>...</td>\n",
       "      <td>No</td>\n",
       "      <td>Steady</td>\n",
       "      <td>No</td>\n",
       "      <td>No</td>\n",
       "      <td>No</td>\n",
       "      <td>No</td>\n",
       "      <td>No</td>\n",
       "      <td>Ch</td>\n",
       "      <td>Yes</td>\n",
       "      <td>NO</td>\n",
       "    </tr>\n",
       "  </tbody>\n",
       "</table>\n",
       "<p>5 rows × 50 columns</p>\n",
       "</div>"
      ],
      "text/plain": [
       "   encounter_id  patient_nbr             race  gender      age weight  \\\n",
       "0     2278392.0    8222157.0        Caucasian  Female   [0-10)      ?   \n",
       "1      149190.0   55629189.0        Caucasian  Female  [10-20)      ?   \n",
       "2       64410.0   86047875.0  AfricanAmerican  Female  [20-30)      ?   \n",
       "3      500364.0   82442376.0        Caucasian    Male  [30-40)      ?   \n",
       "4       16680.0   42519267.0        Caucasian    Male  [40-50)      ?   \n",
       "\n",
       "   admission_type_id  discharge_disposition_id  admission_source_id  \\\n",
       "0                6.0                      25.0                  1.0   \n",
       "1                1.0                       1.0                  7.0   \n",
       "2                1.0                       1.0                  7.0   \n",
       "3                1.0                       1.0                  7.0   \n",
       "4                1.0                       1.0                  7.0   \n",
       "\n",
       "   time_in_hospital    ...     citoglipton insulin  glyburide-metformin  \\\n",
       "0               1.0    ...              No      No                   No   \n",
       "1               3.0    ...              No      Up                   No   \n",
       "2               2.0    ...              No      No                   No   \n",
       "3               2.0    ...              No      Up                   No   \n",
       "4               1.0    ...              No  Steady                   No   \n",
       "\n",
       "   glipizide-metformin  glimepiride-pioglitazone  metformin-rosiglitazone  \\\n",
       "0                   No                        No                       No   \n",
       "1                   No                        No                       No   \n",
       "2                   No                        No                       No   \n",
       "3                   No                        No                       No   \n",
       "4                   No                        No                       No   \n",
       "\n",
       "   metformin-pioglitazone  change diabetesMed readmitted  \n",
       "0                      No      No          No         NO  \n",
       "1                      No      Ch         Yes        >30  \n",
       "2                      No      No         Yes         NO  \n",
       "3                      No      Ch         Yes         NO  \n",
       "4                      No      Ch         Yes         NO  \n",
       "\n",
       "[5 rows x 50 columns]"
      ]
     },
     "execution_count": 234,
     "metadata": {},
     "output_type": "execute_result"
    }
   ],
   "source": [
    "df.head()"
   ]
  },
  {
   "cell_type": "code",
   "execution_count": 235,
   "metadata": {
    "collapsed": false
   },
   "outputs": [],
   "source": [
    "ra_map = {val: idx for idx,val in enumerate(set(df.readmitted))}"
   ]
  },
  {
   "cell_type": "code",
   "execution_count": 236,
   "metadata": {
    "collapsed": false
   },
   "outputs": [
    {
     "data": {
      "text/plain": [
       "{nan: 1, '<30': 2, '>30': 0, 'NO': 3}"
      ]
     },
     "execution_count": 236,
     "metadata": {},
     "output_type": "execute_result"
    }
   ],
   "source": [
    "ra_map"
   ]
  },
  {
   "cell_type": "code",
   "execution_count": 237,
   "metadata": {
    "collapsed": false
   },
   "outputs": [],
   "source": [
    "df[\"ra_map\"] = df.readmitted.apply(lambda x: ra_map[x])"
   ]
  },
  {
   "cell_type": "code",
   "execution_count": 238,
   "metadata": {
    "collapsed": false
   },
   "outputs": [
    {
     "data": {
      "text/plain": [
       "3    54212\n",
       "0    35247\n",
       "2    11243\n",
       "1        3\n",
       "Name: ra_map, dtype: int64"
      ]
     },
     "execution_count": 238,
     "metadata": {},
     "output_type": "execute_result"
    }
   ],
   "source": [
    "df.ra_map.value_counts()"
   ]
  },
  {
   "cell_type": "code",
   "execution_count": 239,
   "metadata": {
    "collapsed": false
   },
   "outputs": [],
   "source": [
    "patient_encounter_g = df.groupby([\"patient_nbr\"])[\"encounter_id\"].count().reset_index()"
   ]
  },
  {
   "cell_type": "code",
   "execution_count": 240,
   "metadata": {
    "collapsed": false
   },
   "outputs": [],
   "source": [
    "patient_encounter_g.columns = [\"patient_nbr\", \"num_encounters\"]"
   ]
  },
  {
   "cell_type": "code",
   "execution_count": 241,
   "metadata": {
    "collapsed": true
   },
   "outputs": [],
   "source": [
    "patient_ra = df[[\"patient_nbr\", \"ra_map\"]]"
   ]
  },
  {
   "cell_type": "code",
   "execution_count": 242,
   "metadata": {
    "collapsed": true
   },
   "outputs": [],
   "source": [
    "multi_entries = patient_encounter_g[patient_encounter_g.num_encounters > 1]"
   ]
  },
  {
   "cell_type": "code",
   "execution_count": 243,
   "metadata": {
    "collapsed": false
   },
   "outputs": [
    {
     "data": {
      "text/html": [
       "<div>\n",
       "<table border=\"1\" class=\"dataframe\">\n",
       "  <thead>\n",
       "    <tr style=\"text-align: right;\">\n",
       "      <th></th>\n",
       "      <th>patient_nbr</th>\n",
       "      <th>num_encounters</th>\n",
       "    </tr>\n",
       "  </thead>\n",
       "  <tbody>\n",
       "    <tr>\n",
       "      <th>0</th>\n",
       "      <td>135.0</td>\n",
       "      <td>2</td>\n",
       "    </tr>\n",
       "    <tr>\n",
       "      <th>5</th>\n",
       "      <td>1152.0</td>\n",
       "      <td>5</td>\n",
       "    </tr>\n",
       "    <tr>\n",
       "      <th>7</th>\n",
       "      <td>1314.0</td>\n",
       "      <td>3</td>\n",
       "    </tr>\n",
       "    <tr>\n",
       "      <th>12</th>\n",
       "      <td>5220.0</td>\n",
       "      <td>4</td>\n",
       "    </tr>\n",
       "    <tr>\n",
       "      <th>13</th>\n",
       "      <td>5337.0</td>\n",
       "      <td>2</td>\n",
       "    </tr>\n",
       "  </tbody>\n",
       "</table>\n",
       "</div>"
      ],
      "text/plain": [
       "    patient_nbr  num_encounters\n",
       "0         135.0               2\n",
       "5        1152.0               5\n",
       "7        1314.0               3\n",
       "12       5220.0               4\n",
       "13       5337.0               2"
      ]
     },
     "execution_count": 243,
     "metadata": {},
     "output_type": "execute_result"
    }
   ],
   "source": [
    "multi_entries.head()"
   ]
  },
  {
   "cell_type": "code",
   "execution_count": 244,
   "metadata": {
    "collapsed": true
   },
   "outputs": [],
   "source": [
    "me_pn = {nbr: None for nbr in multi_entries.patient_nbr}"
   ]
  },
  {
   "cell_type": "code",
   "execution_count": 245,
   "metadata": {
    "collapsed": true
   },
   "outputs": [],
   "source": [
    "df[\"multi_entries\"] = df.patient_nbr.apply(lambda x: \"yes\" if x in me_pn else \"no\")"
   ]
  },
  {
   "cell_type": "code",
   "execution_count": 246,
   "metadata": {
    "collapsed": false
   },
   "outputs": [
    {
     "data": {
      "text/html": [
       "<div>\n",
       "<table border=\"1\" class=\"dataframe\">\n",
       "  <thead>\n",
       "    <tr style=\"text-align: right;\">\n",
       "      <th></th>\n",
       "      <th>multi_entries</th>\n",
       "      <th>readmitted</th>\n",
       "    </tr>\n",
       "  </thead>\n",
       "  <tbody>\n",
       "    <tr>\n",
       "      <th>0</th>\n",
       "      <td>no</td>\n",
       "      <td>NO</td>\n",
       "    </tr>\n",
       "    <tr>\n",
       "      <th>1</th>\n",
       "      <td>no</td>\n",
       "      <td>&gt;30</td>\n",
       "    </tr>\n",
       "    <tr>\n",
       "      <th>2</th>\n",
       "      <td>no</td>\n",
       "      <td>NO</td>\n",
       "    </tr>\n",
       "    <tr>\n",
       "      <th>3</th>\n",
       "      <td>no</td>\n",
       "      <td>NO</td>\n",
       "    </tr>\n",
       "    <tr>\n",
       "      <th>4</th>\n",
       "      <td>no</td>\n",
       "      <td>NO</td>\n",
       "    </tr>\n",
       "  </tbody>\n",
       "</table>\n",
       "</div>"
      ],
      "text/plain": [
       "  multi_entries readmitted\n",
       "0            no         NO\n",
       "1            no        >30\n",
       "2            no         NO\n",
       "3            no         NO\n",
       "4            no         NO"
      ]
     },
     "execution_count": 246,
     "metadata": {},
     "output_type": "execute_result"
    }
   ],
   "source": [
    "df[[\"multi_entries\", \"readmitted\"]].head()"
   ]
  },
  {
   "cell_type": "code",
   "execution_count": 247,
   "metadata": {
    "collapsed": true
   },
   "outputs": [],
   "source": [
    "df_multi = df[df.multi_entries == 'yes']"
   ]
  },
  {
   "cell_type": "code",
   "execution_count": 248,
   "metadata": {
    "collapsed": false
   },
   "outputs": [
    {
     "name": "stderr",
     "output_type": "stream",
     "text": [
      "/Library/Python/2.7/site-packages/ipykernel/__main__.py:19: SettingWithCopyWarning: \n",
      "A value is trying to be set on a copy of a slice from a DataFrame.\n",
      "Try using .loc[row_indexer,col_indexer] = value instead\n",
      "\n",
      "See the caveats in the documentation: http://pandas.pydata.org/pandas-docs/stable/indexing.html#indexing-view-versus-copy\n",
      "/Library/Python/2.7/site-packages/ipykernel/__main__.py:21: SettingWithCopyWarning: \n",
      "A value is trying to be set on a copy of a slice from a DataFrame.\n",
      "Try using .loc[row_indexer,col_indexer] = value instead\n",
      "\n",
      "See the caveats in the documentation: http://pandas.pydata.org/pandas-docs/stable/indexing.html#indexing-view-versus-copy\n",
      "/Library/Python/2.7/site-packages/ipykernel/__main__.py:22: SettingWithCopyWarning: \n",
      "A value is trying to be set on a copy of a slice from a DataFrame.\n",
      "Try using .loc[row_indexer,col_indexer] = value instead\n",
      "\n",
      "See the caveats in the documentation: http://pandas.pydata.org/pandas-docs/stable/indexing.html#indexing-view-versus-copy\n"
     ]
    }
   ],
   "source": [
    "# create target variable for patients with multiple entries\n",
    "patient_map = {}\n",
    "for row in df_multi.iterrows():\n",
    "    if row[1][\"patient_nbr\"] in patient_map:\n",
    "        patient_map[row[1][\"patient_nbr\"]].append(row[1][\"encounter_id\"])\n",
    "        continue\n",
    "    patient_map[row[1][\"patient_nbr\"]] = [row[1][\"encounter_id\"]]\n",
    "\n",
    "for patient in patient_map:\n",
    "    patient_map[patient] = sorted(patient_map[patient])\n",
    "\n",
    "next_encounters = {}\n",
    "for patient in patient_map:\n",
    "    for idx, encounter in enumerate(patient_map[patient]):\n",
    "        if idx == len(patient_map[patient]) - 1:\n",
    "            continue\n",
    "        next_encounters[encounter] = patient_map[patient][idx+1]\n",
    "\n",
    "df_multi[\"next_encounter_exists\"] = df_multi.encounter_id.apply(lambda x: True if x in next_encounters else False)\n",
    "df_multi_ne = df_multi[df_multi.next_encounter_exists]\n",
    "df_multi_ne[\"next_encounter_id\"] = df_multi_ne.encounter_id.apply(lambda x: next_encounters[x])\n",
    "df_multi_ne[\"encounter_delta\"] = df_multi_ne[\"next_encounter_id\"] - df_multi_ne[\"encounter_id\"]"
   ]
  },
  {
   "cell_type": "code",
   "execution_count": 249,
   "metadata": {
    "collapsed": false
   },
   "outputs": [
    {
     "data": {
      "text/plain": [
       "Index([u'encounter_id', u'patient_nbr', u'race', u'gender', u'age', u'weight',\n",
       "       u'admission_type_id', u'discharge_disposition_id',\n",
       "       u'admission_source_id', u'time_in_hospital', u'payer_code',\n",
       "       u'medical_specialty', u'num_lab_procedures', u'num_procedures',\n",
       "       u'num_medications', u'number_outpatient', u'number_emergency',\n",
       "       u'number_inpatient', u'diag_1', u'diag_2', u'diag_3',\n",
       "       u'number_diagnoses', u'max_glu_serum', u'A1Cresult', u'metformin',\n",
       "       u'repaglinide', u'nateglinide', u'chlorpropamide', u'glimepiride',\n",
       "       u'acetohexamide', u'glipizide', u'glyburide', u'tolbutamide',\n",
       "       u'pioglitazone', u'rosiglitazone', u'acarbose', u'miglitol',\n",
       "       u'troglitazone', u'tolazamide', u'examide', u'citoglipton', u'insulin',\n",
       "       u'glyburide-metformin', u'glipizide-metformin',\n",
       "       u'glimepiride-pioglitazone', u'metformin-rosiglitazone',\n",
       "       u'metformin-pioglitazone', u'change', u'diabetesMed', u'readmitted',\n",
       "       u'ra_map', u'multi_entries', u'next_encounter_exists',\n",
       "       u'next_encounter_id', u'encounter_delta'],\n",
       "      dtype='object')"
      ]
     },
     "execution_count": 249,
     "metadata": {},
     "output_type": "execute_result"
    }
   ],
   "source": [
    "df_multi_ne.columns"
   ]
  },
  {
   "cell_type": "code",
   "execution_count": 250,
   "metadata": {
    "collapsed": false
   },
   "outputs": [],
   "source": [
    "categorical = \"\"\"\n",
    "Race\n",
    "Gender\n",
    "Age\n",
    "Admission_type_id\n",
    "Discharge_disposition_id\n",
    "Admission_source_id\n",
    "Medical_specialty\n",
    "Diag_1\n",
    "Diag_2\n",
    "Diag_3\n",
    "Metformin\n",
    "Repaglinide\n",
    "Nateglinide\n",
    "Chlorpropamide\n",
    "Glimepiride\n",
    "Acetohexamide\n",
    "Glipizide\n",
    "Glyburide\n",
    "Tolbutamide\n",
    "Pioglitazone\n",
    "Rosiglitazone\n",
    "Acarbose\n",
    "Miglitol\n",
    "Troglitazone\n",
    "Tolazamide\n",
    "Examide\n",
    "Citoglipton\n",
    "Insulin\n",
    "Glyburide-metformin\n",
    "Glipizide-metformin\n",
    "Glimepiride-pioglitazone\n",
    "Metformin-rosiglitazone\n",
    "Metformin-pioglitazone\n",
    "diabetesMed\n",
    "Change\n",
    "readmitted\n",
    "\"\"\""
   ]
  },
  {
   "cell_type": "code",
   "execution_count": 251,
   "metadata": {
    "collapsed": true
   },
   "outputs": [],
   "source": [
    "discrete = \"\"\"\n",
    "Time_in_hospital\n",
    "Num_lab_procedures\n",
    "Num_procedures\n",
    "Num_medications\n",
    "number_diagnoses\n",
    "\"\"\""
   ]
  },
  {
   "cell_type": "code",
   "execution_count": 252,
   "metadata": {
    "collapsed": false
   },
   "outputs": [],
   "source": [
    "cat_ft = categorical.split(\"\\n\")\n",
    "cat_ft = [cat.strip() for cat in cat_ft]\n",
    "cat_ft = [cat.lower() for cat in cat_ft if len(cat) > 0]\n",
    "dmed = cat_ft.index(\"diabetesmed\")\n",
    "cat_ft.pop(dmed)\n",
    "cat_ft.append(\"diabetesMed\")"
   ]
  },
  {
   "cell_type": "code",
   "execution_count": 253,
   "metadata": {
    "collapsed": false
   },
   "outputs": [],
   "source": [
    "dis_ft = discrete.split(\"\\n\")\n",
    "dis_ft = [dis.strip() for dis in dis_ft]\n",
    "dis_ft = [dis.lower() for dis in dis_ft if len(dis) > 0]"
   ]
  },
  {
   "cell_type": "code",
   "execution_count": 254,
   "metadata": {
    "collapsed": true
   },
   "outputs": [],
   "source": [
    "# dtype converted dataframe\n",
    "df_conv = df_multi_ne.copy()"
   ]
  },
  {
   "cell_type": "code",
   "execution_count": 255,
   "metadata": {
    "collapsed": true
   },
   "outputs": [],
   "source": [
    "encoded_ft = cat_ft + dis_ft"
   ]
  },
  {
   "cell_type": "code",
   "execution_count": 256,
   "metadata": {
    "collapsed": false
   },
   "outputs": [],
   "source": [
    "for col in encoded_ft:\n",
    "    df_conv[col] = df_conv[col].apply(lambda x: str(x))"
   ]
  },
  {
   "cell_type": "code",
   "execution_count": 257,
   "metadata": {
    "collapsed": false
   },
   "outputs": [],
   "source": [
    "prefixes = {col: \"_%s_=\" % col for col in encoded_ft}\n",
    "df_encoded = pd.get_dummies(df_conv, columns=encoded_ft, prefix=prefixes)"
   ]
  },
  {
   "cell_type": "code",
   "execution_count": 258,
   "metadata": {
    "collapsed": false
   },
   "outputs": [
    {
     "data": {
      "text/html": [
       "<div>\n",
       "<table border=\"1\" class=\"dataframe\">\n",
       "  <thead>\n",
       "    <tr style=\"text-align: right;\">\n",
       "      <th></th>\n",
       "      <th>encounter_id</th>\n",
       "      <th>patient_nbr</th>\n",
       "      <th>weight</th>\n",
       "      <th>payer_code</th>\n",
       "      <th>number_outpatient</th>\n",
       "      <th>number_emergency</th>\n",
       "      <th>number_inpatient</th>\n",
       "      <th>max_glu_serum</th>\n",
       "      <th>A1Cresult</th>\n",
       "      <th>ra_map</th>\n",
       "      <th>...</th>\n",
       "      <th>_number_diagnoses_=_15.0</th>\n",
       "      <th>_number_diagnoses_=_16.0</th>\n",
       "      <th>_number_diagnoses_=_2.0</th>\n",
       "      <th>_number_diagnoses_=_3.0</th>\n",
       "      <th>_number_diagnoses_=_4.0</th>\n",
       "      <th>_number_diagnoses_=_5.0</th>\n",
       "      <th>_number_diagnoses_=_6.0</th>\n",
       "      <th>_number_diagnoses_=_7.0</th>\n",
       "      <th>_number_diagnoses_=_8.0</th>\n",
       "      <th>_number_diagnoses_=_9.0</th>\n",
       "    </tr>\n",
       "  </thead>\n",
       "  <tbody>\n",
       "    <tr>\n",
       "      <th>12</th>\n",
       "      <td>40926.0</td>\n",
       "      <td>85504905.0</td>\n",
       "      <td>?</td>\n",
       "      <td>?</td>\n",
       "      <td>0.0</td>\n",
       "      <td>1.0</td>\n",
       "      <td>0.0</td>\n",
       "      <td>None</td>\n",
       "      <td>None</td>\n",
       "      <td>2</td>\n",
       "      <td>...</td>\n",
       "      <td>0</td>\n",
       "      <td>0</td>\n",
       "      <td>0</td>\n",
       "      <td>0</td>\n",
       "      <td>0</td>\n",
       "      <td>0</td>\n",
       "      <td>0</td>\n",
       "      <td>0</td>\n",
       "      <td>1</td>\n",
       "      <td>0</td>\n",
       "    </tr>\n",
       "    <tr>\n",
       "      <th>26</th>\n",
       "      <td>248916.0</td>\n",
       "      <td>115196778.0</td>\n",
       "      <td>?</td>\n",
       "      <td>?</td>\n",
       "      <td>0.0</td>\n",
       "      <td>0.0</td>\n",
       "      <td>0.0</td>\n",
       "      <td>None</td>\n",
       "      <td>None</td>\n",
       "      <td>0</td>\n",
       "      <td>...</td>\n",
       "      <td>0</td>\n",
       "      <td>0</td>\n",
       "      <td>0</td>\n",
       "      <td>1</td>\n",
       "      <td>0</td>\n",
       "      <td>0</td>\n",
       "      <td>0</td>\n",
       "      <td>0</td>\n",
       "      <td>0</td>\n",
       "      <td>0</td>\n",
       "    </tr>\n",
       "    <tr>\n",
       "      <th>27</th>\n",
       "      <td>250872.0</td>\n",
       "      <td>41606064.0</td>\n",
       "      <td>?</td>\n",
       "      <td>?</td>\n",
       "      <td>0.0</td>\n",
       "      <td>0.0</td>\n",
       "      <td>0.0</td>\n",
       "      <td>None</td>\n",
       "      <td>None</td>\n",
       "      <td>0</td>\n",
       "      <td>...</td>\n",
       "      <td>0</td>\n",
       "      <td>0</td>\n",
       "      <td>0</td>\n",
       "      <td>0</td>\n",
       "      <td>0</td>\n",
       "      <td>0</td>\n",
       "      <td>1</td>\n",
       "      <td>0</td>\n",
       "      <td>0</td>\n",
       "      <td>0</td>\n",
       "    </tr>\n",
       "    <tr>\n",
       "      <th>31</th>\n",
       "      <td>260166.0</td>\n",
       "      <td>80845353.0</td>\n",
       "      <td>?</td>\n",
       "      <td>?</td>\n",
       "      <td>0.0</td>\n",
       "      <td>0.0</td>\n",
       "      <td>0.0</td>\n",
       "      <td>None</td>\n",
       "      <td>None</td>\n",
       "      <td>0</td>\n",
       "      <td>...</td>\n",
       "      <td>0</td>\n",
       "      <td>0</td>\n",
       "      <td>0</td>\n",
       "      <td>0</td>\n",
       "      <td>0</td>\n",
       "      <td>0</td>\n",
       "      <td>0</td>\n",
       "      <td>0</td>\n",
       "      <td>1</td>\n",
       "      <td>0</td>\n",
       "    </tr>\n",
       "    <tr>\n",
       "      <th>32</th>\n",
       "      <td>293058.0</td>\n",
       "      <td>114715242.0</td>\n",
       "      <td>?</td>\n",
       "      <td>?</td>\n",
       "      <td>0.0</td>\n",
       "      <td>0.0</td>\n",
       "      <td>0.0</td>\n",
       "      <td>None</td>\n",
       "      <td>None</td>\n",
       "      <td>0</td>\n",
       "      <td>...</td>\n",
       "      <td>0</td>\n",
       "      <td>0</td>\n",
       "      <td>0</td>\n",
       "      <td>0</td>\n",
       "      <td>0</td>\n",
       "      <td>0</td>\n",
       "      <td>0</td>\n",
       "      <td>0</td>\n",
       "      <td>1</td>\n",
       "      <td>0</td>\n",
       "    </tr>\n",
       "  </tbody>\n",
       "</table>\n",
       "<p>5 rows × 2138 columns</p>\n",
       "</div>"
      ],
      "text/plain": [
       "    encounter_id  patient_nbr weight payer_code  number_outpatient  \\\n",
       "12       40926.0   85504905.0      ?          ?                0.0   \n",
       "26      248916.0  115196778.0      ?          ?                0.0   \n",
       "27      250872.0   41606064.0      ?          ?                0.0   \n",
       "31      260166.0   80845353.0      ?          ?                0.0   \n",
       "32      293058.0  114715242.0      ?          ?                0.0   \n",
       "\n",
       "    number_emergency  number_inpatient max_glu_serum A1Cresult  ra_map  \\\n",
       "12               1.0               0.0          None      None       2   \n",
       "26               0.0               0.0          None      None       0   \n",
       "27               0.0               0.0          None      None       0   \n",
       "31               0.0               0.0          None      None       0   \n",
       "32               0.0               0.0          None      None       0   \n",
       "\n",
       "             ...            _number_diagnoses_=_15.0 _number_diagnoses_=_16.0  \\\n",
       "12           ...                                   0                        0   \n",
       "26           ...                                   0                        0   \n",
       "27           ...                                   0                        0   \n",
       "31           ...                                   0                        0   \n",
       "32           ...                                   0                        0   \n",
       "\n",
       "    _number_diagnoses_=_2.0  _number_diagnoses_=_3.0  _number_diagnoses_=_4.0  \\\n",
       "12                        0                        0                        0   \n",
       "26                        0                        1                        0   \n",
       "27                        0                        0                        0   \n",
       "31                        0                        0                        0   \n",
       "32                        0                        0                        0   \n",
       "\n",
       "    _number_diagnoses_=_5.0  _number_diagnoses_=_6.0  _number_diagnoses_=_7.0  \\\n",
       "12                        0                        0                        0   \n",
       "26                        0                        0                        0   \n",
       "27                        0                        1                        0   \n",
       "31                        0                        0                        0   \n",
       "32                        0                        0                        0   \n",
       "\n",
       "    _number_diagnoses_=_8.0  _number_diagnoses_=_9.0  \n",
       "12                        1                        0  \n",
       "26                        0                        0  \n",
       "27                        0                        0  \n",
       "31                        1                        0  \n",
       "32                        1                        0  \n",
       "\n",
       "[5 rows x 2138 columns]"
      ]
     },
     "execution_count": 258,
     "metadata": {},
     "output_type": "execute_result"
    }
   ],
   "source": [
    "df_encoded.head()"
   ]
  },
  {
   "cell_type": "code",
   "execution_count": 259,
   "metadata": {
    "collapsed": false
   },
   "outputs": [],
   "source": [
    "exclusions = \"\"\"Payer_code\n",
    "Weight\n",
    "Number_outpatient\n",
    "Number_emergency\n",
    "Number_inpatient\n",
    "Max_glu_serum\n",
    "A1Cresult\"\"\""
   ]
  },
  {
   "cell_type": "code",
   "execution_count": 260,
   "metadata": {
    "collapsed": false
   },
   "outputs": [
    {
     "name": "stdout",
     "output_type": "stream",
     "text": [
      "['payer_code', 'weight', 'number_outpatient', 'number_emergency', 'number_inpatient', 'max_glu_serum', 'A1Cresult']\n"
     ]
    }
   ],
   "source": [
    "exclusions_arr = exclusions.split('\\n')\n",
    "exclusions_arr = [x.lower().strip() for x in exclusions_arr]\n",
    "a1c = exclusions_arr.index(\"a1cresult\")\n",
    "exclusions_arr.pop(a1c)\n",
    "exclusions_arr.append(\"A1Cresult\")\n",
    "\n",
    "print exclusions_arr\n",
    "df_encoded.drop(exclusions_arr, axis=1,inplace=True)"
   ]
  },
  {
   "cell_type": "code",
   "execution_count": 261,
   "metadata": {
    "collapsed": false
   },
   "outputs": [
    {
     "data": {
      "text/html": [
       "<div>\n",
       "<table border=\"1\" class=\"dataframe\">\n",
       "  <thead>\n",
       "    <tr style=\"text-align: right;\">\n",
       "      <th></th>\n",
       "      <th>encounter_id</th>\n",
       "      <th>patient_nbr</th>\n",
       "      <th>ra_map</th>\n",
       "      <th>multi_entries</th>\n",
       "      <th>next_encounter_exists</th>\n",
       "      <th>next_encounter_id</th>\n",
       "      <th>encounter_delta</th>\n",
       "      <th>_race_=_?</th>\n",
       "      <th>_race_=_AfricanAmerican</th>\n",
       "      <th>_race_=_Asian</th>\n",
       "      <th>...</th>\n",
       "      <th>_number_diagnoses_=_15.0</th>\n",
       "      <th>_number_diagnoses_=_16.0</th>\n",
       "      <th>_number_diagnoses_=_2.0</th>\n",
       "      <th>_number_diagnoses_=_3.0</th>\n",
       "      <th>_number_diagnoses_=_4.0</th>\n",
       "      <th>_number_diagnoses_=_5.0</th>\n",
       "      <th>_number_diagnoses_=_6.0</th>\n",
       "      <th>_number_diagnoses_=_7.0</th>\n",
       "      <th>_number_diagnoses_=_8.0</th>\n",
       "      <th>_number_diagnoses_=_9.0</th>\n",
       "    </tr>\n",
       "  </thead>\n",
       "  <tbody>\n",
       "    <tr>\n",
       "      <th>12</th>\n",
       "      <td>40926.0</td>\n",
       "      <td>85504905.0</td>\n",
       "      <td>2</td>\n",
       "      <td>yes</td>\n",
       "      <td>True</td>\n",
       "      <td>76387002.0</td>\n",
       "      <td>76346076.0</td>\n",
       "      <td>0</td>\n",
       "      <td>0</td>\n",
       "      <td>0</td>\n",
       "      <td>...</td>\n",
       "      <td>0</td>\n",
       "      <td>0</td>\n",
       "      <td>0</td>\n",
       "      <td>0</td>\n",
       "      <td>0</td>\n",
       "      <td>0</td>\n",
       "      <td>0</td>\n",
       "      <td>0</td>\n",
       "      <td>1</td>\n",
       "      <td>0</td>\n",
       "    </tr>\n",
       "    <tr>\n",
       "      <th>26</th>\n",
       "      <td>248916.0</td>\n",
       "      <td>115196778.0</td>\n",
       "      <td>0</td>\n",
       "      <td>yes</td>\n",
       "      <td>True</td>\n",
       "      <td>6068238.0</td>\n",
       "      <td>5819322.0</td>\n",
       "      <td>0</td>\n",
       "      <td>0</td>\n",
       "      <td>0</td>\n",
       "      <td>...</td>\n",
       "      <td>0</td>\n",
       "      <td>0</td>\n",
       "      <td>0</td>\n",
       "      <td>1</td>\n",
       "      <td>0</td>\n",
       "      <td>0</td>\n",
       "      <td>0</td>\n",
       "      <td>0</td>\n",
       "      <td>0</td>\n",
       "      <td>0</td>\n",
       "    </tr>\n",
       "    <tr>\n",
       "      <th>27</th>\n",
       "      <td>250872.0</td>\n",
       "      <td>41606064.0</td>\n",
       "      <td>0</td>\n",
       "      <td>yes</td>\n",
       "      <td>True</td>\n",
       "      <td>2309376.0</td>\n",
       "      <td>2058504.0</td>\n",
       "      <td>0</td>\n",
       "      <td>0</td>\n",
       "      <td>0</td>\n",
       "      <td>...</td>\n",
       "      <td>0</td>\n",
       "      <td>0</td>\n",
       "      <td>0</td>\n",
       "      <td>0</td>\n",
       "      <td>0</td>\n",
       "      <td>0</td>\n",
       "      <td>1</td>\n",
       "      <td>0</td>\n",
       "      <td>0</td>\n",
       "      <td>0</td>\n",
       "    </tr>\n",
       "    <tr>\n",
       "      <th>31</th>\n",
       "      <td>260166.0</td>\n",
       "      <td>80845353.0</td>\n",
       "      <td>0</td>\n",
       "      <td>yes</td>\n",
       "      <td>True</td>\n",
       "      <td>6000072.0</td>\n",
       "      <td>5739906.0</td>\n",
       "      <td>0</td>\n",
       "      <td>0</td>\n",
       "      <td>0</td>\n",
       "      <td>...</td>\n",
       "      <td>0</td>\n",
       "      <td>0</td>\n",
       "      <td>0</td>\n",
       "      <td>0</td>\n",
       "      <td>0</td>\n",
       "      <td>0</td>\n",
       "      <td>0</td>\n",
       "      <td>0</td>\n",
       "      <td>1</td>\n",
       "      <td>0</td>\n",
       "    </tr>\n",
       "    <tr>\n",
       "      <th>32</th>\n",
       "      <td>293058.0</td>\n",
       "      <td>114715242.0</td>\n",
       "      <td>0</td>\n",
       "      <td>yes</td>\n",
       "      <td>True</td>\n",
       "      <td>31409370.0</td>\n",
       "      <td>31116312.0</td>\n",
       "      <td>0</td>\n",
       "      <td>0</td>\n",
       "      <td>0</td>\n",
       "      <td>...</td>\n",
       "      <td>0</td>\n",
       "      <td>0</td>\n",
       "      <td>0</td>\n",
       "      <td>0</td>\n",
       "      <td>0</td>\n",
       "      <td>0</td>\n",
       "      <td>0</td>\n",
       "      <td>0</td>\n",
       "      <td>1</td>\n",
       "      <td>0</td>\n",
       "    </tr>\n",
       "  </tbody>\n",
       "</table>\n",
       "<p>5 rows × 2131 columns</p>\n",
       "</div>"
      ],
      "text/plain": [
       "    encounter_id  patient_nbr  ra_map multi_entries next_encounter_exists  \\\n",
       "12       40926.0   85504905.0       2           yes                  True   \n",
       "26      248916.0  115196778.0       0           yes                  True   \n",
       "27      250872.0   41606064.0       0           yes                  True   \n",
       "31      260166.0   80845353.0       0           yes                  True   \n",
       "32      293058.0  114715242.0       0           yes                  True   \n",
       "\n",
       "    next_encounter_id  encounter_delta  _race_=_?  _race_=_AfricanAmerican  \\\n",
       "12         76387002.0       76346076.0          0                        0   \n",
       "26          6068238.0        5819322.0          0                        0   \n",
       "27          2309376.0        2058504.0          0                        0   \n",
       "31          6000072.0        5739906.0          0                        0   \n",
       "32         31409370.0       31116312.0          0                        0   \n",
       "\n",
       "    _race_=_Asian           ...             _number_diagnoses_=_15.0  \\\n",
       "12              0           ...                                    0   \n",
       "26              0           ...                                    0   \n",
       "27              0           ...                                    0   \n",
       "31              0           ...                                    0   \n",
       "32              0           ...                                    0   \n",
       "\n",
       "    _number_diagnoses_=_16.0  _number_diagnoses_=_2.0  \\\n",
       "12                         0                        0   \n",
       "26                         0                        0   \n",
       "27                         0                        0   \n",
       "31                         0                        0   \n",
       "32                         0                        0   \n",
       "\n",
       "    _number_diagnoses_=_3.0  _number_diagnoses_=_4.0  _number_diagnoses_=_5.0  \\\n",
       "12                        0                        0                        0   \n",
       "26                        1                        0                        0   \n",
       "27                        0                        0                        0   \n",
       "31                        0                        0                        0   \n",
       "32                        0                        0                        0   \n",
       "\n",
       "    _number_diagnoses_=_6.0  _number_diagnoses_=_7.0  _number_diagnoses_=_8.0  \\\n",
       "12                        0                        0                        1   \n",
       "26                        0                        0                        0   \n",
       "27                        1                        0                        0   \n",
       "31                        0                        0                        1   \n",
       "32                        0                        0                        1   \n",
       "\n",
       "    _number_diagnoses_=_9.0  \n",
       "12                        0  \n",
       "26                        0  \n",
       "27                        0  \n",
       "31                        0  \n",
       "32                        0  \n",
       "\n",
       "[5 rows x 2131 columns]"
      ]
     },
     "execution_count": 261,
     "metadata": {},
     "output_type": "execute_result"
    }
   ],
   "source": [
    "df_encoded.head()"
   ]
  },
  {
   "cell_type": "code",
   "execution_count": 262,
   "metadata": {
    "collapsed": false
   },
   "outputs": [],
   "source": [
    "features = [feat for feat in df_encoded.columns if feat not in ['encounter_id', 'patient_nbr', 'ra_map', 'multi_entries', 'next_encounter_exists', 'next_encounter_id', 'encounter_delta']]\n"
   ]
  },
  {
   "cell_type": "code",
   "execution_count": 263,
   "metadata": {
    "collapsed": true
   },
   "outputs": [],
   "source": [
    "x = df_encoded[features].values\n",
    "y = df_encoded[\"encounter_delta\"].values"
   ]
  },
  {
   "cell_type": "code",
   "execution_count": 264,
   "metadata": {
    "collapsed": false
   },
   "outputs": [],
   "source": [
    "from sklearn import decomposition\n",
    "pca = decomposition.PCA(n_components=1000)\n",
    "pca.fit(x)\n",
    "reduced_x = pca.transform(x)"
   ]
  },
  {
   "cell_type": "code",
   "execution_count": 265,
   "metadata": {
    "collapsed": false
   },
   "outputs": [
    {
     "name": "stdout",
     "output_type": "stream",
     "text": [
      "0.99318735328\n"
     ]
    }
   ],
   "source": [
    "print pca.explained_variance_ratio_.cumsum()[-1]\n",
    "\n",
    "split = int(len(x)*0.7)\n",
    "x_train = reduced_x[:split]\n",
    "x_test = reduced_x[split:]\n",
    "y_train = y[:split]\n",
    "y_test = y[split:]"
   ]
  },
  {
   "cell_type": "code",
   "execution_count": 92,
   "metadata": {
    "collapsed": false
   },
   "outputs": [],
   "source": [
    "# without PCA\n",
    "split = int(len(x)*0.7)\n",
    "x_train = x[:split]\n",
    "x_test = x[split:]\n",
    "y_train = y[:split]\n",
    "y_test = y[split:]"
   ]
  },
  {
   "cell_type": "code",
   "execution_count": 266,
   "metadata": {
    "collapsed": true
   },
   "outputs": [],
   "source": [
    "linreg = LinearRegression()"
   ]
  },
  {
   "cell_type": "code",
   "execution_count": 267,
   "metadata": {
    "collapsed": false
   },
   "outputs": [
    {
     "data": {
      "text/plain": [
       "LinearRegression(copy_X=True, fit_intercept=True, n_jobs=1, normalize=False)"
      ]
     },
     "execution_count": 267,
     "metadata": {},
     "output_type": "execute_result"
    }
   ],
   "source": [
    "linreg.fit(x_train, y_train)"
   ]
  },
  {
   "cell_type": "code",
   "execution_count": 268,
   "metadata": {
    "collapsed": false
   },
   "outputs": [
    {
     "name": "stdout",
     "output_type": "stream",
     "text": [
      "_diag_2_=_250.22\n",
      "_diag_2_=_250.51\n",
      "_diag_2_=_478\n",
      "_diag_2_=_484\n",
      "_diag_2_=_585\n",
      "_diag_2_=_453\n",
      "_diag_2_=_446\n",
      "_diag_2_=_441\n",
      "_diag_2_=_250.82\n",
      "_diag_2_=_512\n"
     ]
    }
   ],
   "source": [
    "asc_indices = np.argsort(linreg.coef_).tolist()\n",
    "\n",
    "for i in range(10):\n",
    "    print features[asc_indices[-i]]"
   ]
  },
  {
   "cell_type": "code",
   "execution_count": 269,
   "metadata": {
    "collapsed": false
   },
   "outputs": [
    {
     "name": "stdout",
     "output_type": "stream",
     "text": [
      "Linear Regression\n",
      "root mean squared: 45905738.1789\n"
     ]
    }
   ],
   "source": [
    "prediction = linreg.predict(x_test)\n",
    "print \"Linear Regression\"\n",
    "print \"root mean squared: %s\" % mean_squared_error(y_test, prediction)**(1/2)"
   ]
  },
  {
   "cell_type": "code",
   "execution_count": 270,
   "metadata": {
    "collapsed": false
   },
   "outputs": [
    {
     "name": "stdout",
     "output_type": "stream",
     "text": [
      "[LibSVM]Support Vector Regressor\n",
      "root mean squared: 54595406.2802\n"
     ]
    }
   ],
   "source": [
    "svr = SVR(verbose=2)\n",
    "svr.fit(x_train, y_train)\n",
    "prediction = svr.predict(x_test)\n",
    "print \"Support Vector Regressor\"\n",
    "print \"root mean squared: %s\" % mean_squared_error(y_test, prediction)**(1/2)"
   ]
  },
  {
   "cell_type": "code",
   "execution_count": 102,
   "metadata": {
    "collapsed": false,
    "scrolled": false
   },
   "outputs": [
    {
     "name": "stdout",
     "output_type": "stream",
     "text": [
      "building tree 1 of 10\n"
     ]
    },
    {
     "name": "stderr",
     "output_type": "stream",
     "text": [
      "[Parallel(n_jobs=1)]: Done   1 out of   1 | elapsed:  2.7min remaining:    0.0s\n"
     ]
    },
    {
     "name": "stdout",
     "output_type": "stream",
     "text": [
      "building tree 2 of 10\n",
      "building tree 3 of 10\n",
      "building tree 4 of 10\n",
      "building tree 5 of 10\n",
      "building tree 6 of 10\n",
      "building tree 7 of 10\n",
      "building tree 8 of 10\n",
      "building tree 9 of 10\n",
      "building tree 10 of 10\n"
     ]
    },
    {
     "name": "stderr",
     "output_type": "stream",
     "text": [
      "[Parallel(n_jobs=1)]: Done  10 out of  10 | elapsed: 23.7min finished\n"
     ]
    },
    {
     "name": "stdout",
     "output_type": "stream",
     "text": [
      "Random Forest Regressor\n",
      "root mean squared: 47219210.6696\n"
     ]
    },
    {
     "name": "stderr",
     "output_type": "stream",
     "text": [
      "[Parallel(n_jobs=1)]: Done   1 out of   1 | elapsed:    0.1s remaining:    0.0s\n",
      "[Parallel(n_jobs=1)]: Done  10 out of  10 | elapsed:    0.2s finished\n"
     ]
    }
   ],
   "source": [
    "rf_reg = RandomForestRegressor(n_estimators=10, verbose=2)\n",
    "rf_reg.fit(x_train, y_train)\n",
    "prediction = rf_reg.predict(x_test)\n",
    "print \"Random Forest Regressor\"\n",
    "print \"root mean squared: %s\" % mean_squared_error(y_test, prediction)**(1/2)"
   ]
  },
  {
   "cell_type": "code",
   "execution_count": 271,
   "metadata": {
    "collapsed": false
   },
   "outputs": [
    {
     "name": "stdout",
     "output_type": "stream",
     "text": [
      "(64, 2131)\n"
     ]
    }
   ],
   "source": [
    "# Testing\n",
    "\n",
    "test_df = pd.read_csv(\"diabetes-problem-2.csv\")\n",
    "\n",
    "# dtype converted dataframe\n",
    "test_df_conv = test_df.copy()\n",
    "\n",
    "for col in encoded_ft:\n",
    "    test_df_conv[col] = test_df_conv[col].apply(lambda x: str(x))\n",
    "    \n",
    "prefixes = {col: \"_%s_=\" % col for col in encoded_ft}\n",
    "\n",
    "\n",
    "test_df_encoded = pd.get_dummies(test_df_conv, columns=encoded_ft, prefix=prefixes)\n",
    "\n",
    "cols = df_encoded.columns\n",
    "\n",
    "for i in range(len(cols)):\n",
    "    if cols[i] not in test_df_encoded.columns:\n",
    "        test_df_encoded[cols[i]] = [0]*len(test_df_encoded)\n",
    "    \n",
    "test_df_encoded = test_df_encoded[cols]\n",
    "print test_df_encoded.shape"
   ]
  },
  {
   "cell_type": "code",
   "execution_count": 272,
   "metadata": {
    "collapsed": false
   },
   "outputs": [],
   "source": [
    "x_test = test_df_encoded[features].values\n",
    "\n",
    "reduced_x_test = pca.transform(x_test)\n",
    "\n",
    "y_pred = linreg.predict(reduced_x_test)"
   ]
  },
  {
   "cell_type": "code",
   "execution_count": 273,
   "metadata": {
    "collapsed": false
   },
   "outputs": [],
   "source": [
    "patient_encounter_map = {}\n",
    "for row in df.iterrows():\n",
    "    if row[1][\"patient_nbr\"] in patient_encounter_map and row[1][\"encounter_id\"] > patient_encounter_map[row[1][\"patient_nbr\"]]:\n",
    "        patient_encounter_map[row[1][\"patient_nbr\"]] = row[1][\"encounter_id\"]\n",
    "        continue\n",
    "    patient_encounter_map[row[1][\"patient_nbr\"]] = row[1][\"encounter_id\"]    "
   ]
  },
  {
   "cell_type": "code",
   "execution_count": 280,
   "metadata": {
    "collapsed": false
   },
   "outputs": [],
   "source": [
    "output = []\n",
    "for i in range(len(test_df)):\n",
    "    next_encounter_id = int(round(patient_encounter_map[test_df.iloc[i].patient_nbr]+y_pred[i]))\n",
    "    output.append( {\"patient_nbr\": test_df.iloc[i].patient_nbr, \"next_encounter_id\": next_encounter_id} )\n",
    "                                                                      \n",
    "output_df = pd.DataFrame(output)\n",
    "output_df.to_csv('output.csv')"
   ]
  },
  {
   "cell_type": "code",
   "execution_count": null,
   "metadata": {
    "collapsed": true
   },
   "outputs": [],
   "source": []
  }
 ],
 "metadata": {
  "kernelspec": {
   "display_name": "Python 2",
   "language": "python",
   "name": "python2"
  },
  "language_info": {
   "codemirror_mode": {
    "name": "ipython",
    "version": 2
   },
   "file_extension": ".py",
   "mimetype": "text/x-python",
   "name": "python",
   "nbconvert_exporter": "python",
   "pygments_lexer": "ipython2",
   "version": "2.7.10"
  }
 },
 "nbformat": 4,
 "nbformat_minor": 0
}
