{
 "cells": [
  {
   "cell_type": "code",
   "execution_count": 44,
   "metadata": {
    "collapsed": false
   },
   "outputs": [],
   "source": [
    "from __future__ import division\n",
    "\n",
    "import pandas as pd\n",
    "import numpy as np\n",
    "%matplotlib inline\n",
    "\n",
    "# model imports\n",
    "from sklearn.linear_model import SGDRegressor, LogisticRegression\n",
    "from sklearn.svm import LinearSVR, SVR\n",
    "from sklearn.ensemble import ExtraTreesRegressor, RandomForestRegressor, GradientBoostingRegressor, AdaBoostRegressor\n",
    "\n",
    "# feature selection and preprocessing\n",
    "from sklearn.feature_selection import SelectFromModel\n",
    "\n",
    "# cross validation and grid search\n",
    "from sklearn.cross_validation import StratifiedShuffleSplit\n",
    "from sklearn.grid_search import GridSearchCV\n",
    "\n",
    "# metrics\n",
    "from sklearn.metrics import classification_report\n",
    "\n",
    "from sklearn.svm import SVC"
   ]
  },
  {
   "cell_type": "code",
   "execution_count": 45,
   "metadata": {
    "collapsed": false
   },
   "outputs": [],
   "source": [
    "df = pd.read_csv(\"diabetes-training.csv\")"
   ]
  },
  {
   "cell_type": "code",
   "execution_count": 46,
   "metadata": {
    "collapsed": false,
    "scrolled": true
   },
   "outputs": [
    {
     "data": {
      "text/html": [
       "<div>\n",
       "<table border=\"1\" class=\"dataframe\">\n",
       "  <thead>\n",
       "    <tr style=\"text-align: right;\">\n",
       "      <th></th>\n",
       "      <th>encounter_id</th>\n",
       "      <th>patient_nbr</th>\n",
       "      <th>race</th>\n",
       "      <th>gender</th>\n",
       "      <th>age</th>\n",
       "      <th>weight</th>\n",
       "      <th>admission_type_id</th>\n",
       "      <th>discharge_disposition_id</th>\n",
       "      <th>admission_source_id</th>\n",
       "      <th>time_in_hospital</th>\n",
       "      <th>...</th>\n",
       "      <th>citoglipton</th>\n",
       "      <th>insulin</th>\n",
       "      <th>glyburide-metformin</th>\n",
       "      <th>glipizide-metformin</th>\n",
       "      <th>glimepiride-pioglitazone</th>\n",
       "      <th>metformin-rosiglitazone</th>\n",
       "      <th>metformin-pioglitazone</th>\n",
       "      <th>change</th>\n",
       "      <th>diabetesMed</th>\n",
       "      <th>readmitted</th>\n",
       "    </tr>\n",
       "  </thead>\n",
       "  <tbody>\n",
       "    <tr>\n",
       "      <th>0</th>\n",
       "      <td>2278392.0</td>\n",
       "      <td>8222157.0</td>\n",
       "      <td>Caucasian</td>\n",
       "      <td>Female</td>\n",
       "      <td>[0-10)</td>\n",
       "      <td>?</td>\n",
       "      <td>6.0</td>\n",
       "      <td>25.0</td>\n",
       "      <td>1.0</td>\n",
       "      <td>1.0</td>\n",
       "      <td>...</td>\n",
       "      <td>No</td>\n",
       "      <td>No</td>\n",
       "      <td>No</td>\n",
       "      <td>No</td>\n",
       "      <td>No</td>\n",
       "      <td>No</td>\n",
       "      <td>No</td>\n",
       "      <td>No</td>\n",
       "      <td>No</td>\n",
       "      <td>NO</td>\n",
       "    </tr>\n",
       "    <tr>\n",
       "      <th>1</th>\n",
       "      <td>149190.0</td>\n",
       "      <td>55629189.0</td>\n",
       "      <td>Caucasian</td>\n",
       "      <td>Female</td>\n",
       "      <td>[10-20)</td>\n",
       "      <td>?</td>\n",
       "      <td>1.0</td>\n",
       "      <td>1.0</td>\n",
       "      <td>7.0</td>\n",
       "      <td>3.0</td>\n",
       "      <td>...</td>\n",
       "      <td>No</td>\n",
       "      <td>Up</td>\n",
       "      <td>No</td>\n",
       "      <td>No</td>\n",
       "      <td>No</td>\n",
       "      <td>No</td>\n",
       "      <td>No</td>\n",
       "      <td>Ch</td>\n",
       "      <td>Yes</td>\n",
       "      <td>&gt;30</td>\n",
       "    </tr>\n",
       "    <tr>\n",
       "      <th>2</th>\n",
       "      <td>64410.0</td>\n",
       "      <td>86047875.0</td>\n",
       "      <td>AfricanAmerican</td>\n",
       "      <td>Female</td>\n",
       "      <td>[20-30)</td>\n",
       "      <td>?</td>\n",
       "      <td>1.0</td>\n",
       "      <td>1.0</td>\n",
       "      <td>7.0</td>\n",
       "      <td>2.0</td>\n",
       "      <td>...</td>\n",
       "      <td>No</td>\n",
       "      <td>No</td>\n",
       "      <td>No</td>\n",
       "      <td>No</td>\n",
       "      <td>No</td>\n",
       "      <td>No</td>\n",
       "      <td>No</td>\n",
       "      <td>No</td>\n",
       "      <td>Yes</td>\n",
       "      <td>NO</td>\n",
       "    </tr>\n",
       "    <tr>\n",
       "      <th>3</th>\n",
       "      <td>500364.0</td>\n",
       "      <td>82442376.0</td>\n",
       "      <td>Caucasian</td>\n",
       "      <td>Male</td>\n",
       "      <td>[30-40)</td>\n",
       "      <td>?</td>\n",
       "      <td>1.0</td>\n",
       "      <td>1.0</td>\n",
       "      <td>7.0</td>\n",
       "      <td>2.0</td>\n",
       "      <td>...</td>\n",
       "      <td>No</td>\n",
       "      <td>Up</td>\n",
       "      <td>No</td>\n",
       "      <td>No</td>\n",
       "      <td>No</td>\n",
       "      <td>No</td>\n",
       "      <td>No</td>\n",
       "      <td>Ch</td>\n",
       "      <td>Yes</td>\n",
       "      <td>NO</td>\n",
       "    </tr>\n",
       "    <tr>\n",
       "      <th>4</th>\n",
       "      <td>16680.0</td>\n",
       "      <td>42519267.0</td>\n",
       "      <td>Caucasian</td>\n",
       "      <td>Male</td>\n",
       "      <td>[40-50)</td>\n",
       "      <td>?</td>\n",
       "      <td>1.0</td>\n",
       "      <td>1.0</td>\n",
       "      <td>7.0</td>\n",
       "      <td>1.0</td>\n",
       "      <td>...</td>\n",
       "      <td>No</td>\n",
       "      <td>Steady</td>\n",
       "      <td>No</td>\n",
       "      <td>No</td>\n",
       "      <td>No</td>\n",
       "      <td>No</td>\n",
       "      <td>No</td>\n",
       "      <td>Ch</td>\n",
       "      <td>Yes</td>\n",
       "      <td>NO</td>\n",
       "    </tr>\n",
       "  </tbody>\n",
       "</table>\n",
       "<p>5 rows × 50 columns</p>\n",
       "</div>"
      ],
      "text/plain": [
       "   encounter_id  patient_nbr             race  gender      age weight  \\\n",
       "0     2278392.0    8222157.0        Caucasian  Female   [0-10)      ?   \n",
       "1      149190.0   55629189.0        Caucasian  Female  [10-20)      ?   \n",
       "2       64410.0   86047875.0  AfricanAmerican  Female  [20-30)      ?   \n",
       "3      500364.0   82442376.0        Caucasian    Male  [30-40)      ?   \n",
       "4       16680.0   42519267.0        Caucasian    Male  [40-50)      ?   \n",
       "\n",
       "   admission_type_id  discharge_disposition_id  admission_source_id  \\\n",
       "0                6.0                      25.0                  1.0   \n",
       "1                1.0                       1.0                  7.0   \n",
       "2                1.0                       1.0                  7.0   \n",
       "3                1.0                       1.0                  7.0   \n",
       "4                1.0                       1.0                  7.0   \n",
       "\n",
       "   time_in_hospital    ...     citoglipton insulin  glyburide-metformin  \\\n",
       "0               1.0    ...              No      No                   No   \n",
       "1               3.0    ...              No      Up                   No   \n",
       "2               2.0    ...              No      No                   No   \n",
       "3               2.0    ...              No      Up                   No   \n",
       "4               1.0    ...              No  Steady                   No   \n",
       "\n",
       "   glipizide-metformin  glimepiride-pioglitazone  metformin-rosiglitazone  \\\n",
       "0                   No                        No                       No   \n",
       "1                   No                        No                       No   \n",
       "2                   No                        No                       No   \n",
       "3                   No                        No                       No   \n",
       "4                   No                        No                       No   \n",
       "\n",
       "   metformin-pioglitazone  change diabetesMed readmitted  \n",
       "0                      No      No          No         NO  \n",
       "1                      No      Ch         Yes        >30  \n",
       "2                      No      No         Yes         NO  \n",
       "3                      No      Ch         Yes         NO  \n",
       "4                      No      Ch         Yes         NO  \n",
       "\n",
       "[5 rows x 50 columns]"
      ]
     },
     "execution_count": 46,
     "metadata": {},
     "output_type": "execute_result"
    }
   ],
   "source": [
    "df.head()"
   ]
  },
  {
   "cell_type": "code",
   "execution_count": 47,
   "metadata": {
    "collapsed": false
   },
   "outputs": [],
   "source": [
    "categorical = \"\"\"\n",
    "Race\n",
    "Gender\n",
    "Age\n",
    "Admission_source_id\n",
    "Medical_specialty\n",
    "Diag_1\n",
    "Diag_2\n",
    "Diag_3\n",
    "Metformin\n",
    "Repaglinide\n",
    "Nateglinide\n",
    "Chlorpropamide\n",
    "Glimepiride\n",
    "Acetohexamide\n",
    "Glipizide\n",
    "Glyburide\n",
    "Tolbutamide\n",
    "Pioglitazone\n",
    "Rosiglitazone\n",
    "Acarbose\n",
    "Miglitol\n",
    "Troglitazone\n",
    "Tolazamide\n",
    "Examide\n",
    "Citoglipton\n",
    "Insulin\n",
    "Glyburide-metformin\n",
    "Glipizide-metformin\n",
    "Glimepiride-pioglitazone\n",
    "Metformin-rosiglitazone\n",
    "Metformin-pioglitazone\n",
    "diabetesMed\n",
    "Change\n",
    "readmitted\n",
    "\"\"\""
   ]
  },
  {
   "cell_type": "code",
   "execution_count": 48,
   "metadata": {
    "collapsed": true
   },
   "outputs": [],
   "source": [
    "discrete = \"\"\"\n",
    "Time_in_hospital\n",
    "Num_lab_procedures\n",
    "Num_procedures\n",
    "Num_medications\n",
    "number_diagnoses\n",
    "\"\"\""
   ]
  },
  {
   "cell_type": "code",
   "execution_count": 49,
   "metadata": {
    "collapsed": false
   },
   "outputs": [],
   "source": [
    "cat_ft = categorical.split(\"\\n\")\n",
    "cat_ft = [cat.strip() for cat in cat_ft]\n",
    "cat_ft = [cat.lower() for cat in cat_ft if len(cat) > 0]\n",
    "dmed = cat_ft.index(\"diabetesmed\")\n",
    "cat_ft.pop(dmed)\n",
    "cat_ft.append(\"diabetesMed\")"
   ]
  },
  {
   "cell_type": "code",
   "execution_count": 50,
   "metadata": {
    "collapsed": false
   },
   "outputs": [],
   "source": [
    "dis_ft = discrete.split(\"\\n\")\n",
    "dis_ft = [dis.strip() for dis in dis_ft]\n",
    "dis_ft = [dis.lower() for dis in dis_ft if len(dis) > 0]"
   ]
  },
  {
   "cell_type": "code",
   "execution_count": 51,
   "metadata": {
    "collapsed": true
   },
   "outputs": [],
   "source": [
    "# dtype converted dataframe\n",
    "df_conv = df.copy()"
   ]
  },
  {
   "cell_type": "code",
   "execution_count": 52,
   "metadata": {
    "collapsed": false
   },
   "outputs": [],
   "source": [
    "exclusions = \"\"\"Payer_code\n",
    "Weight\n",
    "Number_outpatient\n",
    "Number_emergency\n",
    "Number_inpatient\n",
    "Max_glu_serum\n",
    "A1Cresult\"\"\""
   ]
  },
  {
   "cell_type": "code",
   "execution_count": 53,
   "metadata": {
    "collapsed": false
   },
   "outputs": [
    {
     "data": {
      "text/plain": [
       "Index([u'encounter_id', u'patient_nbr', u'race', u'gender', u'age',\n",
       "       u'admission_type_id', u'discharge_disposition_id',\n",
       "       u'admission_source_id', u'time_in_hospital', u'medical_specialty',\n",
       "       u'num_lab_procedures', u'num_procedures', u'num_medications', u'diag_1',\n",
       "       u'diag_2', u'diag_3', u'number_diagnoses', u'metformin', u'repaglinide',\n",
       "       u'nateglinide', u'chlorpropamide', u'glimepiride', u'acetohexamide',\n",
       "       u'glipizide', u'glyburide', u'tolbutamide', u'pioglitazone',\n",
       "       u'rosiglitazone', u'acarbose', u'miglitol', u'troglitazone',\n",
       "       u'tolazamide', u'examide', u'citoglipton', u'insulin',\n",
       "       u'glyburide-metformin', u'glipizide-metformin',\n",
       "       u'glimepiride-pioglitazone', u'metformin-rosiglitazone',\n",
       "       u'metformin-pioglitazone', u'change', u'diabetesMed', u'readmitted'],\n",
       "      dtype='object')"
      ]
     },
     "execution_count": 53,
     "metadata": {},
     "output_type": "execute_result"
    }
   ],
   "source": [
    "exclusions_arr = exclusions.split('\\n')\n",
    "exclusions_arr = [x.lower().strip() for x in exclusions_arr]\n",
    "a1c = exclusions_arr.index(\"a1cresult\")\n",
    "exclusions_arr.pop(a1c)\n",
    "exclusions_arr.append(\"A1Cresult\")\n",
    "\n",
    "df_conv.drop(exclusions_arr, axis=1,inplace=True)\n",
    "df_conv.columns"
   ]
  },
  {
   "cell_type": "code",
   "execution_count": null,
   "metadata": {
    "collapsed": true
   },
   "outputs": [],
   "source": []
  },
  {
   "cell_type": "code",
   "execution_count": 54,
   "metadata": {
    "collapsed": true
   },
   "outputs": [],
   "source": [
    "encoded_ft = cat_ft + dis_ft"
   ]
  },
  {
   "cell_type": "code",
   "execution_count": 55,
   "metadata": {
    "collapsed": false
   },
   "outputs": [],
   "source": [
    "for col in encoded_ft:\n",
    "    df_conv[col] = df_conv[col].apply(lambda x: str(x))"
   ]
  },
  {
   "cell_type": "code",
   "execution_count": 56,
   "metadata": {
    "collapsed": false
   },
   "outputs": [],
   "source": [
    "prefixes = {col: \"_%s_=\" % col for col in encoded_ft}\n",
    "df_encoded = pd.get_dummies(df_conv, columns=encoded_ft, prefix=prefixes)"
   ]
  },
  {
   "cell_type": "code",
   "execution_count": 57,
   "metadata": {
    "collapsed": false
   },
   "outputs": [
    {
     "data": {
      "text/html": [
       "<div>\n",
       "<table border=\"1\" class=\"dataframe\">\n",
       "  <thead>\n",
       "    <tr style=\"text-align: right;\">\n",
       "      <th></th>\n",
       "      <th>encounter_id</th>\n",
       "      <th>patient_nbr</th>\n",
       "      <th>admission_type_id</th>\n",
       "      <th>discharge_disposition_id</th>\n",
       "      <th>_race_=_?</th>\n",
       "      <th>_race_=_AfricanAmerican</th>\n",
       "      <th>_race_=_Asian</th>\n",
       "      <th>_race_=_Caucasian</th>\n",
       "      <th>_race_=_Hispanic</th>\n",
       "      <th>_race_=_Other</th>\n",
       "      <th>...</th>\n",
       "      <th>_number_diagnoses_=_16.0</th>\n",
       "      <th>_number_diagnoses_=_2.0</th>\n",
       "      <th>_number_diagnoses_=_3.0</th>\n",
       "      <th>_number_diagnoses_=_4.0</th>\n",
       "      <th>_number_diagnoses_=_5.0</th>\n",
       "      <th>_number_diagnoses_=_6.0</th>\n",
       "      <th>_number_diagnoses_=_7.0</th>\n",
       "      <th>_number_diagnoses_=_8.0</th>\n",
       "      <th>_number_diagnoses_=_9.0</th>\n",
       "      <th>_number_diagnoses_=_nan</th>\n",
       "    </tr>\n",
       "  </thead>\n",
       "  <tbody>\n",
       "    <tr>\n",
       "      <th>0</th>\n",
       "      <td>2278392.0</td>\n",
       "      <td>8222157.0</td>\n",
       "      <td>6.0</td>\n",
       "      <td>25.0</td>\n",
       "      <td>0</td>\n",
       "      <td>0</td>\n",
       "      <td>0</td>\n",
       "      <td>1</td>\n",
       "      <td>0</td>\n",
       "      <td>0</td>\n",
       "      <td>...</td>\n",
       "      <td>0</td>\n",
       "      <td>0</td>\n",
       "      <td>0</td>\n",
       "      <td>0</td>\n",
       "      <td>0</td>\n",
       "      <td>0</td>\n",
       "      <td>0</td>\n",
       "      <td>0</td>\n",
       "      <td>0</td>\n",
       "      <td>0</td>\n",
       "    </tr>\n",
       "    <tr>\n",
       "      <th>1</th>\n",
       "      <td>149190.0</td>\n",
       "      <td>55629189.0</td>\n",
       "      <td>1.0</td>\n",
       "      <td>1.0</td>\n",
       "      <td>0</td>\n",
       "      <td>0</td>\n",
       "      <td>0</td>\n",
       "      <td>1</td>\n",
       "      <td>0</td>\n",
       "      <td>0</td>\n",
       "      <td>...</td>\n",
       "      <td>0</td>\n",
       "      <td>0</td>\n",
       "      <td>0</td>\n",
       "      <td>0</td>\n",
       "      <td>0</td>\n",
       "      <td>0</td>\n",
       "      <td>0</td>\n",
       "      <td>0</td>\n",
       "      <td>1</td>\n",
       "      <td>0</td>\n",
       "    </tr>\n",
       "    <tr>\n",
       "      <th>2</th>\n",
       "      <td>64410.0</td>\n",
       "      <td>86047875.0</td>\n",
       "      <td>1.0</td>\n",
       "      <td>1.0</td>\n",
       "      <td>0</td>\n",
       "      <td>1</td>\n",
       "      <td>0</td>\n",
       "      <td>0</td>\n",
       "      <td>0</td>\n",
       "      <td>0</td>\n",
       "      <td>...</td>\n",
       "      <td>0</td>\n",
       "      <td>0</td>\n",
       "      <td>0</td>\n",
       "      <td>0</td>\n",
       "      <td>0</td>\n",
       "      <td>1</td>\n",
       "      <td>0</td>\n",
       "      <td>0</td>\n",
       "      <td>0</td>\n",
       "      <td>0</td>\n",
       "    </tr>\n",
       "    <tr>\n",
       "      <th>3</th>\n",
       "      <td>500364.0</td>\n",
       "      <td>82442376.0</td>\n",
       "      <td>1.0</td>\n",
       "      <td>1.0</td>\n",
       "      <td>0</td>\n",
       "      <td>0</td>\n",
       "      <td>0</td>\n",
       "      <td>1</td>\n",
       "      <td>0</td>\n",
       "      <td>0</td>\n",
       "      <td>...</td>\n",
       "      <td>0</td>\n",
       "      <td>0</td>\n",
       "      <td>0</td>\n",
       "      <td>0</td>\n",
       "      <td>0</td>\n",
       "      <td>0</td>\n",
       "      <td>1</td>\n",
       "      <td>0</td>\n",
       "      <td>0</td>\n",
       "      <td>0</td>\n",
       "    </tr>\n",
       "    <tr>\n",
       "      <th>4</th>\n",
       "      <td>16680.0</td>\n",
       "      <td>42519267.0</td>\n",
       "      <td>1.0</td>\n",
       "      <td>1.0</td>\n",
       "      <td>0</td>\n",
       "      <td>0</td>\n",
       "      <td>0</td>\n",
       "      <td>1</td>\n",
       "      <td>0</td>\n",
       "      <td>0</td>\n",
       "      <td>...</td>\n",
       "      <td>0</td>\n",
       "      <td>0</td>\n",
       "      <td>0</td>\n",
       "      <td>0</td>\n",
       "      <td>1</td>\n",
       "      <td>0</td>\n",
       "      <td>0</td>\n",
       "      <td>0</td>\n",
       "      <td>0</td>\n",
       "      <td>0</td>\n",
       "    </tr>\n",
       "  </tbody>\n",
       "</table>\n",
       "<p>5 rows × 2708 columns</p>\n",
       "</div>"
      ],
      "text/plain": [
       "   encounter_id  patient_nbr  admission_type_id  discharge_disposition_id  \\\n",
       "0     2278392.0    8222157.0                6.0                      25.0   \n",
       "1      149190.0   55629189.0                1.0                       1.0   \n",
       "2       64410.0   86047875.0                1.0                       1.0   \n",
       "3      500364.0   82442376.0                1.0                       1.0   \n",
       "4       16680.0   42519267.0                1.0                       1.0   \n",
       "\n",
       "   _race_=_?  _race_=_AfricanAmerican  _race_=_Asian  _race_=_Caucasian  \\\n",
       "0          0                        0              0                  1   \n",
       "1          0                        0              0                  1   \n",
       "2          0                        1              0                  0   \n",
       "3          0                        0              0                  1   \n",
       "4          0                        0              0                  1   \n",
       "\n",
       "   _race_=_Hispanic  _race_=_Other           ...             \\\n",
       "0                 0              0           ...              \n",
       "1                 0              0           ...              \n",
       "2                 0              0           ...              \n",
       "3                 0              0           ...              \n",
       "4                 0              0           ...              \n",
       "\n",
       "   _number_diagnoses_=_16.0  _number_diagnoses_=_2.0  _number_diagnoses_=_3.0  \\\n",
       "0                         0                        0                        0   \n",
       "1                         0                        0                        0   \n",
       "2                         0                        0                        0   \n",
       "3                         0                        0                        0   \n",
       "4                         0                        0                        0   \n",
       "\n",
       "   _number_diagnoses_=_4.0  _number_diagnoses_=_5.0  _number_diagnoses_=_6.0  \\\n",
       "0                        0                        0                        0   \n",
       "1                        0                        0                        0   \n",
       "2                        0                        0                        1   \n",
       "3                        0                        0                        0   \n",
       "4                        0                        1                        0   \n",
       "\n",
       "   _number_diagnoses_=_7.0  _number_diagnoses_=_8.0  _number_diagnoses_=_9.0  \\\n",
       "0                        0                        0                        0   \n",
       "1                        0                        0                        1   \n",
       "2                        0                        0                        0   \n",
       "3                        1                        0                        0   \n",
       "4                        0                        0                        0   \n",
       "\n",
       "   _number_diagnoses_=_nan  \n",
       "0                        0  \n",
       "1                        0  \n",
       "2                        0  \n",
       "3                        0  \n",
       "4                        0  \n",
       "\n",
       "[5 rows x 2708 columns]"
      ]
     },
     "execution_count": 57,
     "metadata": {},
     "output_type": "execute_result"
    }
   ],
   "source": [
    "df_encoded.head()"
   ]
  },
  {
   "cell_type": "code",
   "execution_count": 58,
   "metadata": {
    "collapsed": false
   },
   "outputs": [],
   "source": [
    "features = [feat for feat in df_encoded.columns if feat not in ['encounter_id', 'patient_nbr', 'admission_type_id', \"discharge_disposition_id\"]]"
   ]
  },
  {
   "cell_type": "code",
   "execution_count": 59,
   "metadata": {
    "collapsed": false
   },
   "outputs": [],
   "source": [
    "x = df_encoded[features].values\n",
    "y = df_encoded[\"admission_type_id\"].values\n",
    "y = map(str, y)"
   ]
  },
  {
   "cell_type": "code",
   "execution_count": 17,
   "metadata": {
    "collapsed": false
   },
   "outputs": [],
   "source": [
    "from sklearn import decomposition\n",
    "pca = decomposition.PCA(n_components=1000)\n",
    "pca.fit(x)\n",
    "reduced_x = pca.transform(x)"
   ]
  },
  {
   "cell_type": "code",
   "execution_count": 18,
   "metadata": {
    "collapsed": false
   },
   "outputs": [
    {
     "name": "stdout",
     "output_type": "stream",
     "text": [
      "0.990760577469\n"
     ]
    }
   ],
   "source": [
    "print pca.explained_variance_ratio_.cumsum()[-1]\n",
    "\n",
    "split = int(len(x)*0.7)\n",
    "x_train = reduced_x[:split]\n",
    "x_test = reduced_x[split:]\n",
    "y_train = y[:split]\n",
    "y_test = y[split:]"
   ]
  },
  {
   "cell_type": "code",
   "execution_count": 60,
   "metadata": {
    "collapsed": false
   },
   "outputs": [],
   "source": [
    "# without PCA\n",
    "split = int(len(x)*0.7)\n",
    "x_train = x[:split]\n",
    "x_test = x[split:]\n",
    "y_train = y[:split]\n",
    "y_test = y[split:]"
   ]
  },
  {
   "cell_type": "code",
   "execution_count": 61,
   "metadata": {
    "collapsed": false
   },
   "outputs": [],
   "source": [
    "logreg = LogisticRegression()"
   ]
  },
  {
   "cell_type": "code",
   "execution_count": 62,
   "metadata": {
    "collapsed": false
   },
   "outputs": [
    {
     "data": {
      "text/plain": [
       "LogisticRegression(C=1.0, class_weight=None, dual=False, fit_intercept=True,\n",
       "          intercept_scaling=1, max_iter=100, multi_class='ovr', n_jobs=1,\n",
       "          penalty='l2', random_state=None, solver='liblinear', tol=0.0001,\n",
       "          verbose=0, warm_start=False)"
      ]
     },
     "execution_count": 62,
     "metadata": {},
     "output_type": "execute_result"
    }
   ],
   "source": [
    "logreg.fit(x_train, y_train)"
   ]
  },
  {
   "cell_type": "code",
   "execution_count": 63,
   "metadata": {
    "collapsed": false
   },
   "outputs": [
    {
     "name": "stdout",
     "output_type": "stream",
     "text": [
      "_diag_1_=_V57\n",
      "_admission_source_id_=_6.0\n",
      "_admission_source_id_=_7.0\n",
      "_admission_source_id_=_5.0\n",
      "_diag_1_=_342\n",
      "_diag_1_=_852\n",
      "_diag_3_=_250.12\n",
      "_diag_1_=_70\n",
      "_diag_3_=_685\n",
      "_diag_2_=_V63\n",
      "\n",
      "\n",
      "_admission_source_id_=_6.0\n",
      "_medical_specialty_=_Emergency/Trauma\n",
      "_admission_source_id_=_9.0\n",
      "_medical_specialty_=_Pathology\n",
      "_admission_source_id_=_20.0\n",
      "_medical_specialty_=_Cardiology-Pediatric\n",
      "_medical_specialty_=_Surgery-Maxillofacial\n",
      "_admission_source_id_=_4.0\n",
      "_diag_2_=_54\n",
      "_diag_1_=_250.92\n",
      "\n",
      "\n",
      "_admission_source_id_=_17.0\n",
      "_medical_specialty_=_Emergency/Trauma\n",
      "_medical_specialty_=_Hospitalist\n",
      "_admission_source_id_=_1.0\n",
      "_diag_2_=_719\n",
      "_medical_specialty_=_Otolaryngology\n",
      "_diag_1_=_185\n",
      "_admission_source_id_=_3.0\n",
      "_medical_specialty_=_Psychology\n",
      "_diag_3_=_614\n",
      "\n",
      "\n",
      "_admission_source_id_=_7.0\n",
      "_diag_3_=_401\n",
      "_admission_source_id_=_4.0\n",
      "_num_lab_procedures_=_39.0\n",
      "_num_medications_=_18.0\n",
      "_num_medications_=_7.0\n",
      "_medical_specialty_=_?\n",
      "_admission_source_id_=_14.0\n",
      "_diag_1_=_870\n",
      "_diag_3_=_873\n",
      "\n",
      "\n",
      "_diag_1_=_V57\n",
      "_admission_source_id_=_17.0\n",
      "_medical_specialty_=_Obstetrics\n",
      "_admission_source_id_=_1.0\n",
      "_medical_specialty_=_?\n",
      "_diag_1_=_278\n",
      "_num_lab_procedures_=_15.0\n",
      "_num_lab_procedures_=_16.0\n",
      "_diag_2_=_295\n",
      "_diag_1_=_282\n",
      "\n",
      "\n",
      "_num_lab_procedures_=_9.0\n",
      "_admission_source_id_=_17.0\n",
      "_num_lab_procedures_=_95.0\n",
      "_diag_1_=_V57\n",
      "_medical_specialty_=_AllergyandImmunology\n",
      "_num_lab_procedures_=_79.0\n",
      "_diag_2_=_E849\n",
      "_diag_1_=_297\n",
      "_num_lab_procedures_=_98.0\n",
      "_num_lab_procedures_=_89.0\n",
      "\n",
      "\n",
      "_num_procedures_=_0.0\n",
      "_diag_1_=_821\n",
      "_diag_3_=_873\n",
      "_num_lab_procedures_=_48.0\n",
      "_num_procedures_=_6.0\n",
      "_medical_specialty_=_?\n",
      "_admission_source_id_=_7.0\n",
      "_diag_1_=_430\n",
      "_diag_3_=_810\n",
      "_diag_2_=_276\n",
      "\n",
      "\n",
      "_admission_source_id_=_17.0\n",
      "_medical_specialty_=_Surgery-Thoracic\n",
      "_admission_source_id_=_2.0\n",
      "_time_in_hospital_=_1.0\n",
      "_medical_specialty_=_Orthopedics-Reconstructive\n",
      "_diag_1_=_785\n",
      "_number_diagnoses_=_5.0\n",
      "_medical_specialty_=_Surgery-Vascular\n",
      "_diag_3_=_287\n",
      "_diag_3_=_607\n",
      "\n",
      "\n"
     ]
    }
   ],
   "source": [
    "asc_indices = np.argsort(logreg.coef_)\n",
    "for i in range(8):\n",
    "    for j in range(10):\n",
    "        print features[asc_indices[i][-j]]\n",
    "        \n",
    "    print \"\\n\""
   ]
  },
  {
   "cell_type": "code",
   "execution_count": 64,
   "metadata": {
    "collapsed": false
   },
   "outputs": [
    {
     "name": "stdout",
     "output_type": "stream",
     "text": [
      "Logistic Regression\n",
      "             precision    recall  f1-score   support\n",
      "\n",
      "        1.0       0.93      0.93      0.93     18174\n",
      "        2.0       0.50      0.55      0.52      4786\n",
      "        3.0       0.75      0.69      0.72      6341\n",
      "        4.0       0.00      0.00      0.00         3\n",
      "        5.0       0.03      0.16      0.06        98\n",
      "        6.0       0.95      0.61      0.74       699\n",
      "        7.0       0.00      0.00      0.00        11\n",
      "        8.0       0.67      0.02      0.04        97\n",
      "        nan       0.00      0.00      0.00         3\n",
      "\n",
      "avg / total       0.82      0.81      0.81     30212\n",
      "\n"
     ]
    }
   ],
   "source": [
    "prediction = logreg.predict(x_test)\n",
    "print \"Logistic Regression\"\n",
    "print classification_report(y_test, prediction)"
   ]
  },
  {
   "cell_type": "code",
   "execution_count": null,
   "metadata": {
    "collapsed": false
   },
   "outputs": [],
   "source": [
    "svc = SVC()\n",
    "svc.fit(x_train, y_train)\n",
    "prediction = svc.predict(x_test)\n",
    "print \"Support Vector Classifier\"\n",
    "print classification_report(y_test, prediction)"
   ]
  },
  {
   "cell_type": "code",
   "execution_count": 102,
   "metadata": {
    "collapsed": false,
    "scrolled": false
   },
   "outputs": [
    {
     "name": "stdout",
     "output_type": "stream",
     "text": [
      "building tree 1 of 10\n"
     ]
    },
    {
     "name": "stderr",
     "output_type": "stream",
     "text": [
      "[Parallel(n_jobs=1)]: Done   1 out of   1 | elapsed:  2.7min remaining:    0.0s\n"
     ]
    },
    {
     "name": "stdout",
     "output_type": "stream",
     "text": [
      "building tree 2 of 10\n",
      "building tree 3 of 10\n",
      "building tree 4 of 10\n",
      "building tree 5 of 10\n",
      "building tree 6 of 10\n",
      "building tree 7 of 10\n",
      "building tree 8 of 10\n",
      "building tree 9 of 10\n",
      "building tree 10 of 10\n"
     ]
    },
    {
     "name": "stderr",
     "output_type": "stream",
     "text": [
      "[Parallel(n_jobs=1)]: Done  10 out of  10 | elapsed: 23.7min finished\n"
     ]
    },
    {
     "name": "stdout",
     "output_type": "stream",
     "text": [
      "Random Forest Regressor\n",
      "root mean squared: 47219210.6696\n"
     ]
    },
    {
     "name": "stderr",
     "output_type": "stream",
     "text": [
      "[Parallel(n_jobs=1)]: Done   1 out of   1 | elapsed:    0.1s remaining:    0.0s\n",
      "[Parallel(n_jobs=1)]: Done  10 out of  10 | elapsed:    0.2s finished\n"
     ]
    }
   ],
   "source": [
    "rf_reg = RandomForestRegressor(n_estimators=10, verbose=2)\n",
    "rf_reg.fit(x_train, y_train)\n",
    "prediction = rf_reg.predict(x_test)\n",
    "print \"Random Forest Regressor\"\n",
    "print \"root mean squared: %s\" % mean_squared_error(y_test, prediction)**(1/2)"
   ]
  },
  {
   "cell_type": "code",
   "execution_count": 65,
   "metadata": {
    "collapsed": false
   },
   "outputs": [
    {
     "name": "stdout",
     "output_type": "stream",
     "text": [
      "(999, 2708)\n"
     ]
    }
   ],
   "source": [
    "# Testing\n",
    "\n",
    "test_df = pd.read_csv(\"diabetes-problem-1.csv\")\n",
    "\n",
    "# dtype converted dataframe\n",
    "test_df_conv = test_df.copy()\n",
    "\n",
    "for col in encoded_ft:\n",
    "    test_df_conv[col] = test_df_conv[col].apply(lambda x: str(x))\n",
    "    \n",
    "prefixes = {col: \"_%s_=\" % col for col in encoded_ft}\n",
    "\n",
    "test_df_encoded = pd.get_dummies(test_df_conv, columns=encoded_ft, prefix=prefixes)\n",
    "\n",
    "cols = df_encoded.columns\n",
    "\n",
    "for i in range(len(cols)):\n",
    "    if cols[i] not in test_df_encoded.columns:\n",
    "        test_df_encoded[cols[i]] = [0]*len(test_df_encoded)\n",
    "    \n",
    "test_df_encoded = test_df_encoded[cols]\n",
    "print test_df_encoded.shape"
   ]
  },
  {
   "cell_type": "code",
   "execution_count": 66,
   "metadata": {
    "collapsed": false
   },
   "outputs": [],
   "source": [
    "x_test = test_df_encoded[features].values\n",
    "\n",
    "y_pred = logreg.predict(x_test)"
   ]
  },
  {
   "cell_type": "code",
   "execution_count": 67,
   "metadata": {
    "collapsed": false
   },
   "outputs": [],
   "source": [
    "output = []\n",
    "for i in range(len(test_df)):\n",
    "    output.append( {\"encounter_id\": test_df.iloc[i].encounter_id, \"admission_type_id\": y_pred[i]} )\n",
    "                                                                      \n",
    "output_df = pd.DataFrame(output)\n",
    "output_df.to_csv('output1-ch2.csv')"
   ]
  },
  {
   "cell_type": "code",
   "execution_count": null,
   "metadata": {
    "collapsed": true
   },
   "outputs": [],
   "source": []
  }
 ],
 "metadata": {
  "kernelspec": {
   "display_name": "Python 2",
   "language": "python",
   "name": "python2"
  },
  "language_info": {
   "codemirror_mode": {
    "name": "ipython",
    "version": 2
   },
   "file_extension": ".py",
   "mimetype": "text/x-python",
   "name": "python",
   "nbconvert_exporter": "python",
   "pygments_lexer": "ipython2",
   "version": "2.7.10"
  }
 },
 "nbformat": 4,
 "nbformat_minor": 0
}
