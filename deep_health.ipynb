{
 "cells": [
  {
   "cell_type": "code",
   "execution_count": 1,
   "metadata": {
    "collapsed": true
   },
   "outputs": [],
   "source": [
    "from __future__ import division\n",
    "\n",
    "import pandas as pd\n",
    "import numpy as np\n",
    "%matplotlib inline\n",
    "\n",
    "# model imports\n",
    "from sklearn.linear_model import SGDRegressor, LinearRegression\n",
    "from sklearn.svm import LinearSVR, SVR\n",
    "from sklearn.ensemble import ExtraTreesRegressor, RandomForestRegressor, GradientBoostingRegressor, AdaBoostRegressor\n",
    "\n",
    "# feature selection and preprocessing\n",
    "from sklearn.feature_selection import SelectFromModel\n",
    "\n",
    "# cross validation and grid search\n",
    "from sklearn.cross_validation import StratifiedShuffleSplit\n",
    "from sklearn.grid_search import GridSearchCV\n",
    "\n",
    "# metrics\n",
    "from sklearn.metrics import mean_squared_error, mean_absolute_error, r2_score"
   ]
  },
  {
   "cell_type": "code",
   "execution_count": 2,
   "metadata": {
    "collapsed": true
   },
   "outputs": [],
   "source": [
    "df = pd.read_csv(\"diabetes-training.csv\")"
   ]
  },
  {
   "cell_type": "code",
   "execution_count": 3,
   "metadata": {
    "collapsed": false
   },
   "outputs": [
    {
     "data": {
      "text/html": [
       "<div>\n",
       "<table border=\"1\" class=\"dataframe\">\n",
       "  <thead>\n",
       "    <tr style=\"text-align: right;\">\n",
       "      <th></th>\n",
       "      <th>encounter_id</th>\n",
       "      <th>patient_nbr</th>\n",
       "      <th>race</th>\n",
       "      <th>gender</th>\n",
       "      <th>age</th>\n",
       "      <th>weight</th>\n",
       "      <th>admission_type_id</th>\n",
       "      <th>discharge_disposition_id</th>\n",
       "      <th>admission_source_id</th>\n",
       "      <th>time_in_hospital</th>\n",
       "      <th>...</th>\n",
       "      <th>citoglipton</th>\n",
       "      <th>insulin</th>\n",
       "      <th>glyburide-metformin</th>\n",
       "      <th>glipizide-metformin</th>\n",
       "      <th>glimepiride-pioglitazone</th>\n",
       "      <th>metformin-rosiglitazone</th>\n",
       "      <th>metformin-pioglitazone</th>\n",
       "      <th>change</th>\n",
       "      <th>diabetesMed</th>\n",
       "      <th>readmitted</th>\n",
       "    </tr>\n",
       "  </thead>\n",
       "  <tbody>\n",
       "    <tr>\n",
       "      <th>0</th>\n",
       "      <td>2278392</td>\n",
       "      <td>8222157</td>\n",
       "      <td>Caucasian</td>\n",
       "      <td>Female</td>\n",
       "      <td>[0-10)</td>\n",
       "      <td>?</td>\n",
       "      <td>6</td>\n",
       "      <td>25</td>\n",
       "      <td>1</td>\n",
       "      <td>1</td>\n",
       "      <td>...</td>\n",
       "      <td>No</td>\n",
       "      <td>No</td>\n",
       "      <td>No</td>\n",
       "      <td>No</td>\n",
       "      <td>No</td>\n",
       "      <td>No</td>\n",
       "      <td>No</td>\n",
       "      <td>No</td>\n",
       "      <td>No</td>\n",
       "      <td>NO</td>\n",
       "    </tr>\n",
       "    <tr>\n",
       "      <th>1</th>\n",
       "      <td>149190</td>\n",
       "      <td>55629189</td>\n",
       "      <td>Caucasian</td>\n",
       "      <td>Female</td>\n",
       "      <td>[10-20)</td>\n",
       "      <td>?</td>\n",
       "      <td>1</td>\n",
       "      <td>1</td>\n",
       "      <td>7</td>\n",
       "      <td>3</td>\n",
       "      <td>...</td>\n",
       "      <td>No</td>\n",
       "      <td>Up</td>\n",
       "      <td>No</td>\n",
       "      <td>No</td>\n",
       "      <td>No</td>\n",
       "      <td>No</td>\n",
       "      <td>No</td>\n",
       "      <td>Ch</td>\n",
       "      <td>Yes</td>\n",
       "      <td>&gt;30</td>\n",
       "    </tr>\n",
       "    <tr>\n",
       "      <th>2</th>\n",
       "      <td>64410</td>\n",
       "      <td>86047875</td>\n",
       "      <td>AfricanAmerican</td>\n",
       "      <td>Female</td>\n",
       "      <td>[20-30)</td>\n",
       "      <td>?</td>\n",
       "      <td>1</td>\n",
       "      <td>1</td>\n",
       "      <td>7</td>\n",
       "      <td>2</td>\n",
       "      <td>...</td>\n",
       "      <td>No</td>\n",
       "      <td>No</td>\n",
       "      <td>No</td>\n",
       "      <td>No</td>\n",
       "      <td>No</td>\n",
       "      <td>No</td>\n",
       "      <td>No</td>\n",
       "      <td>No</td>\n",
       "      <td>Yes</td>\n",
       "      <td>NO</td>\n",
       "    </tr>\n",
       "    <tr>\n",
       "      <th>3</th>\n",
       "      <td>500364</td>\n",
       "      <td>82442376</td>\n",
       "      <td>Caucasian</td>\n",
       "      <td>Male</td>\n",
       "      <td>[30-40)</td>\n",
       "      <td>?</td>\n",
       "      <td>1</td>\n",
       "      <td>1</td>\n",
       "      <td>7</td>\n",
       "      <td>2</td>\n",
       "      <td>...</td>\n",
       "      <td>No</td>\n",
       "      <td>Up</td>\n",
       "      <td>No</td>\n",
       "      <td>No</td>\n",
       "      <td>No</td>\n",
       "      <td>No</td>\n",
       "      <td>No</td>\n",
       "      <td>Ch</td>\n",
       "      <td>Yes</td>\n",
       "      <td>NO</td>\n",
       "    </tr>\n",
       "    <tr>\n",
       "      <th>4</th>\n",
       "      <td>16680</td>\n",
       "      <td>42519267</td>\n",
       "      <td>Caucasian</td>\n",
       "      <td>Male</td>\n",
       "      <td>[40-50)</td>\n",
       "      <td>?</td>\n",
       "      <td>1</td>\n",
       "      <td>1</td>\n",
       "      <td>7</td>\n",
       "      <td>1</td>\n",
       "      <td>...</td>\n",
       "      <td>No</td>\n",
       "      <td>Steady</td>\n",
       "      <td>No</td>\n",
       "      <td>No</td>\n",
       "      <td>No</td>\n",
       "      <td>No</td>\n",
       "      <td>No</td>\n",
       "      <td>Ch</td>\n",
       "      <td>Yes</td>\n",
       "      <td>NO</td>\n",
       "    </tr>\n",
       "  </tbody>\n",
       "</table>\n",
       "<p>5 rows × 50 columns</p>\n",
       "</div>"
      ],
      "text/plain": [
       "   encounter_id  patient_nbr             race  gender      age weight  \\\n",
       "0       2278392      8222157        Caucasian  Female   [0-10)      ?   \n",
       "1        149190     55629189        Caucasian  Female  [10-20)      ?   \n",
       "2         64410     86047875  AfricanAmerican  Female  [20-30)      ?   \n",
       "3        500364     82442376        Caucasian    Male  [30-40)      ?   \n",
       "4         16680     42519267        Caucasian    Male  [40-50)      ?   \n",
       "\n",
       "   admission_type_id  discharge_disposition_id  admission_source_id  \\\n",
       "0                  6                        25                    1   \n",
       "1                  1                         1                    7   \n",
       "2                  1                         1                    7   \n",
       "3                  1                         1                    7   \n",
       "4                  1                         1                    7   \n",
       "\n",
       "   time_in_hospital    ...     citoglipton insulin  glyburide-metformin  \\\n",
       "0                 1    ...              No      No                   No   \n",
       "1                 3    ...              No      Up                   No   \n",
       "2                 2    ...              No      No                   No   \n",
       "3                 2    ...              No      Up                   No   \n",
       "4                 1    ...              No  Steady                   No   \n",
       "\n",
       "   glipizide-metformin  glimepiride-pioglitazone  metformin-rosiglitazone  \\\n",
       "0                   No                        No                       No   \n",
       "1                   No                        No                       No   \n",
       "2                   No                        No                       No   \n",
       "3                   No                        No                       No   \n",
       "4                   No                        No                       No   \n",
       "\n",
       "   metformin-pioglitazone  change diabetesMed readmitted  \n",
       "0                      No      No          No         NO  \n",
       "1                      No      Ch         Yes        >30  \n",
       "2                      No      No         Yes         NO  \n",
       "3                      No      Ch         Yes         NO  \n",
       "4                      No      Ch         Yes         NO  \n",
       "\n",
       "[5 rows x 50 columns]"
      ]
     },
     "execution_count": 3,
     "metadata": {},
     "output_type": "execute_result"
    }
   ],
   "source": [
    "df.head()"
   ]
  },
  {
   "cell_type": "code",
   "execution_count": 4,
   "metadata": {
    "collapsed": false
   },
   "outputs": [],
   "source": [
    "ra_map = {val: idx for idx,val in enumerate(set(df.readmitted))}"
   ]
  },
  {
   "cell_type": "code",
   "execution_count": 5,
   "metadata": {
    "collapsed": false
   },
   "outputs": [
    {
     "data": {
      "text/plain": [
       "{nan: 1, '<30': 2, '>30': 0, 'NO': 3}"
      ]
     },
     "execution_count": 5,
     "metadata": {},
     "output_type": "execute_result"
    }
   ],
   "source": [
    "ra_map"
   ]
  },
  {
   "cell_type": "code",
   "execution_count": 6,
   "metadata": {
    "collapsed": false
   },
   "outputs": [],
   "source": [
    "df[\"ra_map\"] = df.readmitted.apply(lambda x: ra_map[x])"
   ]
  },
  {
   "cell_type": "code",
   "execution_count": 7,
   "metadata": {
    "collapsed": false
   },
   "outputs": [
    {
     "data": {
      "text/plain": [
       "3    54212\n",
       "0    35247\n",
       "2    11243\n",
       "1        3\n",
       "dtype: int64"
      ]
     },
     "execution_count": 7,
     "metadata": {},
     "output_type": "execute_result"
    }
   ],
   "source": [
    "df.ra_map.value_counts()"
   ]
  },
  {
   "cell_type": "code",
   "execution_count": 8,
   "metadata": {
    "collapsed": false
   },
   "outputs": [],
   "source": [
    "patient_encounter_g = df.groupby([\"patient_nbr\"])[\"encounter_id\"].count().reset_index()"
   ]
  },
  {
   "cell_type": "code",
   "execution_count": 9,
   "metadata": {
    "collapsed": false
   },
   "outputs": [],
   "source": [
    "patient_encounter_g.columns = [\"patient_nbr\", \"num_encounters\"]"
   ]
  },
  {
   "cell_type": "code",
   "execution_count": 10,
   "metadata": {
    "collapsed": true
   },
   "outputs": [],
   "source": [
    "patient_ra = df[[\"patient_nbr\", \"ra_map\"]]"
   ]
  },
  {
   "cell_type": "code",
   "execution_count": 11,
   "metadata": {
    "collapsed": true
   },
   "outputs": [],
   "source": [
    "multi_entries = patient_encounter_g[patient_encounter_g.num_encounters > 1]"
   ]
  },
  {
   "cell_type": "code",
   "execution_count": 12,
   "metadata": {
    "collapsed": false
   },
   "outputs": [
    {
     "data": {
      "text/html": [
       "<div>\n",
       "<table border=\"1\" class=\"dataframe\">\n",
       "  <thead>\n",
       "    <tr style=\"text-align: right;\">\n",
       "      <th></th>\n",
       "      <th>patient_nbr</th>\n",
       "      <th>num_encounters</th>\n",
       "    </tr>\n",
       "  </thead>\n",
       "  <tbody>\n",
       "    <tr>\n",
       "      <th>0</th>\n",
       "      <td>135</td>\n",
       "      <td>2</td>\n",
       "    </tr>\n",
       "    <tr>\n",
       "      <th>5</th>\n",
       "      <td>1152</td>\n",
       "      <td>5</td>\n",
       "    </tr>\n",
       "    <tr>\n",
       "      <th>7</th>\n",
       "      <td>1314</td>\n",
       "      <td>3</td>\n",
       "    </tr>\n",
       "    <tr>\n",
       "      <th>12</th>\n",
       "      <td>5220</td>\n",
       "      <td>4</td>\n",
       "    </tr>\n",
       "    <tr>\n",
       "      <th>13</th>\n",
       "      <td>5337</td>\n",
       "      <td>2</td>\n",
       "    </tr>\n",
       "  </tbody>\n",
       "</table>\n",
       "</div>"
      ],
      "text/plain": [
       "    patient_nbr  num_encounters\n",
       "0           135               2\n",
       "5          1152               5\n",
       "7          1314               3\n",
       "12         5220               4\n",
       "13         5337               2"
      ]
     },
     "execution_count": 12,
     "metadata": {},
     "output_type": "execute_result"
    }
   ],
   "source": [
    "multi_entries.head()"
   ]
  },
  {
   "cell_type": "code",
   "execution_count": 13,
   "metadata": {
    "collapsed": true
   },
   "outputs": [],
   "source": [
    "me_pn = {nbr: None for nbr in multi_entries.patient_nbr}"
   ]
  },
  {
   "cell_type": "code",
   "execution_count": 14,
   "metadata": {
    "collapsed": true
   },
   "outputs": [],
   "source": [
    "df[\"multi_entries\"] = df.patient_nbr.apply(lambda x: \"yes\" if x in me_pn else \"no\")"
   ]
  },
  {
   "cell_type": "code",
   "execution_count": 15,
   "metadata": {
    "collapsed": false
   },
   "outputs": [
    {
     "data": {
      "text/html": [
       "<div>\n",
       "<table border=\"1\" class=\"dataframe\">\n",
       "  <thead>\n",
       "    <tr style=\"text-align: right;\">\n",
       "      <th></th>\n",
       "      <th>multi_entries</th>\n",
       "      <th>readmitted</th>\n",
       "    </tr>\n",
       "  </thead>\n",
       "  <tbody>\n",
       "    <tr>\n",
       "      <th>0</th>\n",
       "      <td>no</td>\n",
       "      <td>NO</td>\n",
       "    </tr>\n",
       "    <tr>\n",
       "      <th>1</th>\n",
       "      <td>no</td>\n",
       "      <td>&gt;30</td>\n",
       "    </tr>\n",
       "    <tr>\n",
       "      <th>2</th>\n",
       "      <td>no</td>\n",
       "      <td>NO</td>\n",
       "    </tr>\n",
       "    <tr>\n",
       "      <th>3</th>\n",
       "      <td>no</td>\n",
       "      <td>NO</td>\n",
       "    </tr>\n",
       "    <tr>\n",
       "      <th>4</th>\n",
       "      <td>no</td>\n",
       "      <td>NO</td>\n",
       "    </tr>\n",
       "  </tbody>\n",
       "</table>\n",
       "</div>"
      ],
      "text/plain": [
       "  multi_entries readmitted\n",
       "0            no         NO\n",
       "1            no        >30\n",
       "2            no         NO\n",
       "3            no         NO\n",
       "4            no         NO"
      ]
     },
     "execution_count": 15,
     "metadata": {},
     "output_type": "execute_result"
    }
   ],
   "source": [
    "df[[\"multi_entries\", \"readmitted\"]].head()"
   ]
  },
  {
   "cell_type": "code",
   "execution_count": 16,
   "metadata": {
    "collapsed": true
   },
   "outputs": [],
   "source": [
    "df_multi = df[df.multi_entries == 'yes']"
   ]
  },
  {
   "cell_type": "code",
   "execution_count": 17,
   "metadata": {
    "collapsed": false
   },
   "outputs": [
    {
     "name": "stderr",
     "output_type": "stream",
     "text": [
      "/Users/siddhanthunnithan/.virtualenvs/document_classification/lib/python2.7/site-packages/ipykernel/__main__.py:19: SettingWithCopyWarning: \n",
      "A value is trying to be set on a copy of a slice from a DataFrame.\n",
      "Try using .loc[row_indexer,col_indexer] = value instead\n",
      "\n",
      "See the the caveats in the documentation: http://pandas.pydata.org/pandas-docs/stable/indexing.html#indexing-view-versus-copy\n",
      "/Users/siddhanthunnithan/.virtualenvs/document_classification/lib/python2.7/site-packages/ipykernel/__main__.py:21: SettingWithCopyWarning: \n",
      "A value is trying to be set on a copy of a slice from a DataFrame.\n",
      "Try using .loc[row_indexer,col_indexer] = value instead\n",
      "\n",
      "See the the caveats in the documentation: http://pandas.pydata.org/pandas-docs/stable/indexing.html#indexing-view-versus-copy\n",
      "/Users/siddhanthunnithan/.virtualenvs/document_classification/lib/python2.7/site-packages/ipykernel/__main__.py:22: SettingWithCopyWarning: \n",
      "A value is trying to be set on a copy of a slice from a DataFrame.\n",
      "Try using .loc[row_indexer,col_indexer] = value instead\n",
      "\n",
      "See the the caveats in the documentation: http://pandas.pydata.org/pandas-docs/stable/indexing.html#indexing-view-versus-copy\n"
     ]
    }
   ],
   "source": [
    "# create target variable for patients with multiple entries\n",
    "patient_map = {}\n",
    "for row in df_multi.iterrows():\n",
    "    if row[1][\"patient_nbr\"] in patient_map:\n",
    "        patient_map[row[1][\"patient_nbr\"]].append(row[1][\"encounter_id\"])\n",
    "        continue\n",
    "    patient_map[row[1][\"patient_nbr\"]] = [row[1][\"encounter_id\"]]\n",
    "\n",
    "for patient in patient_map:\n",
    "    patient_map[patient] = sorted(patient_map[patient])\n",
    "\n",
    "next_encounters = {}\n",
    "for patient in patient_map:\n",
    "    for idx, encounter in enumerate(patient_map[patient]):\n",
    "        if idx == len(patient_map[patient]) - 1:\n",
    "            continue\n",
    "        next_encounters[encounter] = patient_map[patient][idx+1]\n",
    "\n",
    "df_multi[\"next_encounter_exists\"] = df_multi.encounter_id.apply(lambda x: True if x in next_encounters else False)\n",
    "df_multi_ne = df_multi[df_multi.next_encounter_exists]\n",
    "df_multi_ne[\"next_encounter_id\"] = df_multi_ne.encounter_id.apply(lambda x: next_encounters[x])\n",
    "df_multi_ne[\"encounter_delta\"] = df_multi_ne[\"next_encounter_id\"] - df_multi_ne[\"encounter_id\"]"
   ]
  },
  {
   "cell_type": "code",
   "execution_count": 18,
   "metadata": {
    "collapsed": false
   },
   "outputs": [
    {
     "data": {
      "text/plain": [
       "Index([u'encounter_id', u'patient_nbr', u'race', u'gender', u'age', u'weight',\n",
       "       u'admission_type_id', u'discharge_disposition_id',\n",
       "       u'admission_source_id', u'time_in_hospital', u'payer_code',\n",
       "       u'medical_specialty', u'num_lab_procedures', u'num_procedures',\n",
       "       u'num_medications', u'number_outpatient', u'number_emergency',\n",
       "       u'number_inpatient', u'diag_1', u'diag_2', u'diag_3',\n",
       "       u'number_diagnoses', u'max_glu_serum', u'A1Cresult', u'metformin',\n",
       "       u'repaglinide', u'nateglinide', u'chlorpropamide', u'glimepiride',\n",
       "       u'acetohexamide', u'glipizide', u'glyburide', u'tolbutamide',\n",
       "       u'pioglitazone', u'rosiglitazone', u'acarbose', u'miglitol',\n",
       "       u'troglitazone', u'tolazamide', u'examide', u'citoglipton', u'insulin',\n",
       "       u'glyburide-metformin', u'glipizide-metformin',\n",
       "       u'glimepiride-pioglitazone', u'metformin-rosiglitazone',\n",
       "       u'metformin-pioglitazone', u'change', u'diabetesMed', u'readmitted',\n",
       "       u'ra_map', u'multi_entries', u'next_encounter_exists',\n",
       "       u'next_encounter_id', u'encounter_delta'],\n",
       "      dtype='object')"
      ]
     },
     "execution_count": 18,
     "metadata": {},
     "output_type": "execute_result"
    }
   ],
   "source": [
    "df_multi_ne.columns"
   ]
  },
  {
   "cell_type": "code",
   "execution_count": 19,
   "metadata": {
    "collapsed": false
   },
   "outputs": [],
   "source": [
    "categorical = \"\"\"\n",
    "Race\n",
    "Gender\n",
    "Age\n",
    "Admission_type_id\n",
    "Discharge_disposition_id\n",
    "Admission_source_id\n",
    "Medical_specialty\n",
    "Diag_1\n",
    "Diag_2\n",
    "Diag_3\n",
    "Metformin\n",
    "Repaglinide\n",
    "Nateglinide\n",
    "Chlorpropamide\n",
    "Glimepiride\n",
    "Acetohexamide\n",
    "Glipizide\n",
    "Glyburide\n",
    "Tolbutamide\n",
    "Pioglitazone\n",
    "Rosiglitazone\n",
    "Acarbose\n",
    "Miglitol\n",
    "Troglitazone\n",
    "Tolazamide\n",
    "Examide\n",
    "Citoglipton\n",
    "Insulin\n",
    "Glyburide-metformin\n",
    "Glipizide-metformin\n",
    "Glimepiride-pioglitazone\n",
    "Metformin-rosiglitazone\n",
    "Metformin-pioglitazone\n",
    "diabetesMed\n",
    "Change\n",
    "readmitted\n",
    "\"\"\""
   ]
  },
  {
   "cell_type": "code",
   "execution_count": 20,
   "metadata": {
    "collapsed": true
   },
   "outputs": [],
   "source": [
    "discrete = \"\"\"\n",
    "Time_in_hospital\n",
    "Num_lab_procedures\n",
    "Num_procedures\n",
    "Num_medications\n",
    "number_diagnoses\n",
    "\"\"\""
   ]
  },
  {
   "cell_type": "code",
   "execution_count": 21,
   "metadata": {
    "collapsed": false
   },
   "outputs": [],
   "source": [
    "cat_ft = categorical.split(\"\\n\")\n",
    "cat_ft = [cat.strip() for cat in cat_ft]\n",
    "cat_ft = [cat.lower() for cat in cat_ft if len(cat) > 0]\n",
    "dmed = cat_ft.index(\"diabetesmed\")\n",
    "cat_ft.pop(dmed)\n",
    "cat_ft.append(\"diabetesMed\")"
   ]
  },
  {
   "cell_type": "code",
   "execution_count": 22,
   "metadata": {
    "collapsed": false
   },
   "outputs": [],
   "source": [
    "dis_ft = discrete.split(\"\\n\")\n",
    "dis_ft = [dis.strip() for dis in dis_ft]\n",
    "dis_ft = [dis.lower() for dis in dis_ft if len(dis) > 0]"
   ]
  },
  {
   "cell_type": "code",
   "execution_count": 23,
   "metadata": {
    "collapsed": true
   },
   "outputs": [],
   "source": [
    "# dtype converted dataframe\n",
    "df_conv = df_multi_ne.copy()"
   ]
  },
  {
   "cell_type": "code",
   "execution_count": 24,
   "metadata": {
    "collapsed": true
   },
   "outputs": [],
   "source": [
    "encoded_ft = cat_ft + dis_ft"
   ]
  },
  {
   "cell_type": "code",
   "execution_count": 25,
   "metadata": {
    "collapsed": false
   },
   "outputs": [],
   "source": [
    "for col in encoded_ft:\n",
    "    df_conv[col] = df_conv[col].apply(lambda x: str(x))"
   ]
  },
  {
   "cell_type": "code",
   "execution_count": 26,
   "metadata": {
    "collapsed": false
   },
   "outputs": [],
   "source": [
    "prefixes = {col: \"_%s_=\" % col for col in encoded_ft}\n",
    "df_encoded = pd.get_dummies(df_conv, columns=encoded_ft, prefix=prefixes)"
   ]
  },
  {
   "cell_type": "code",
   "execution_count": 27,
   "metadata": {
    "collapsed": false
   },
   "outputs": [
    {
     "data": {
      "text/html": [
       "<div>\n",
       "<table border=\"1\" class=\"dataframe\">\n",
       "  <thead>\n",
       "    <tr style=\"text-align: right;\">\n",
       "      <th></th>\n",
       "      <th>encounter_id</th>\n",
       "      <th>patient_nbr</th>\n",
       "      <th>weight</th>\n",
       "      <th>payer_code</th>\n",
       "      <th>number_outpatient</th>\n",
       "      <th>number_emergency</th>\n",
       "      <th>number_inpatient</th>\n",
       "      <th>max_glu_serum</th>\n",
       "      <th>A1Cresult</th>\n",
       "      <th>ra_map</th>\n",
       "      <th>...</th>\n",
       "      <th>_number_diagnoses_=_15.0</th>\n",
       "      <th>_number_diagnoses_=_16.0</th>\n",
       "      <th>_number_diagnoses_=_2.0</th>\n",
       "      <th>_number_diagnoses_=_3.0</th>\n",
       "      <th>_number_diagnoses_=_4.0</th>\n",
       "      <th>_number_diagnoses_=_5.0</th>\n",
       "      <th>_number_diagnoses_=_6.0</th>\n",
       "      <th>_number_diagnoses_=_7.0</th>\n",
       "      <th>_number_diagnoses_=_8.0</th>\n",
       "      <th>_number_diagnoses_=_9.0</th>\n",
       "    </tr>\n",
       "  </thead>\n",
       "  <tbody>\n",
       "    <tr>\n",
       "      <th>12</th>\n",
       "      <td>40926</td>\n",
       "      <td>85504905</td>\n",
       "      <td>?</td>\n",
       "      <td>?</td>\n",
       "      <td>0</td>\n",
       "      <td>1</td>\n",
       "      <td>0</td>\n",
       "      <td>None</td>\n",
       "      <td>None</td>\n",
       "      <td>2</td>\n",
       "      <td>...</td>\n",
       "      <td>0</td>\n",
       "      <td>0</td>\n",
       "      <td>0</td>\n",
       "      <td>0</td>\n",
       "      <td>0</td>\n",
       "      <td>0</td>\n",
       "      <td>0</td>\n",
       "      <td>0</td>\n",
       "      <td>1</td>\n",
       "      <td>0</td>\n",
       "    </tr>\n",
       "    <tr>\n",
       "      <th>26</th>\n",
       "      <td>248916</td>\n",
       "      <td>115196778</td>\n",
       "      <td>?</td>\n",
       "      <td>?</td>\n",
       "      <td>0</td>\n",
       "      <td>0</td>\n",
       "      <td>0</td>\n",
       "      <td>None</td>\n",
       "      <td>None</td>\n",
       "      <td>0</td>\n",
       "      <td>...</td>\n",
       "      <td>0</td>\n",
       "      <td>0</td>\n",
       "      <td>0</td>\n",
       "      <td>1</td>\n",
       "      <td>0</td>\n",
       "      <td>0</td>\n",
       "      <td>0</td>\n",
       "      <td>0</td>\n",
       "      <td>0</td>\n",
       "      <td>0</td>\n",
       "    </tr>\n",
       "    <tr>\n",
       "      <th>27</th>\n",
       "      <td>250872</td>\n",
       "      <td>41606064</td>\n",
       "      <td>?</td>\n",
       "      <td>?</td>\n",
       "      <td>0</td>\n",
       "      <td>0</td>\n",
       "      <td>0</td>\n",
       "      <td>None</td>\n",
       "      <td>None</td>\n",
       "      <td>0</td>\n",
       "      <td>...</td>\n",
       "      <td>0</td>\n",
       "      <td>0</td>\n",
       "      <td>0</td>\n",
       "      <td>0</td>\n",
       "      <td>0</td>\n",
       "      <td>0</td>\n",
       "      <td>1</td>\n",
       "      <td>0</td>\n",
       "      <td>0</td>\n",
       "      <td>0</td>\n",
       "    </tr>\n",
       "    <tr>\n",
       "      <th>31</th>\n",
       "      <td>260166</td>\n",
       "      <td>80845353</td>\n",
       "      <td>?</td>\n",
       "      <td>?</td>\n",
       "      <td>0</td>\n",
       "      <td>0</td>\n",
       "      <td>0</td>\n",
       "      <td>None</td>\n",
       "      <td>None</td>\n",
       "      <td>0</td>\n",
       "      <td>...</td>\n",
       "      <td>0</td>\n",
       "      <td>0</td>\n",
       "      <td>0</td>\n",
       "      <td>0</td>\n",
       "      <td>0</td>\n",
       "      <td>0</td>\n",
       "      <td>0</td>\n",
       "      <td>0</td>\n",
       "      <td>1</td>\n",
       "      <td>0</td>\n",
       "    </tr>\n",
       "    <tr>\n",
       "      <th>32</th>\n",
       "      <td>293058</td>\n",
       "      <td>114715242</td>\n",
       "      <td>?</td>\n",
       "      <td>?</td>\n",
       "      <td>0</td>\n",
       "      <td>0</td>\n",
       "      <td>0</td>\n",
       "      <td>None</td>\n",
       "      <td>None</td>\n",
       "      <td>0</td>\n",
       "      <td>...</td>\n",
       "      <td>0</td>\n",
       "      <td>0</td>\n",
       "      <td>0</td>\n",
       "      <td>0</td>\n",
       "      <td>0</td>\n",
       "      <td>0</td>\n",
       "      <td>0</td>\n",
       "      <td>0</td>\n",
       "      <td>1</td>\n",
       "      <td>0</td>\n",
       "    </tr>\n",
       "  </tbody>\n",
       "</table>\n",
       "<p>5 rows × 2138 columns</p>\n",
       "</div>"
      ],
      "text/plain": [
       "    encounter_id  patient_nbr weight payer_code  number_outpatient  \\\n",
       "12         40926     85504905      ?          ?                  0   \n",
       "26        248916    115196778      ?          ?                  0   \n",
       "27        250872     41606064      ?          ?                  0   \n",
       "31        260166     80845353      ?          ?                  0   \n",
       "32        293058    114715242      ?          ?                  0   \n",
       "\n",
       "    number_emergency  number_inpatient max_glu_serum A1Cresult  ra_map  \\\n",
       "12                 1                 0          None      None       2   \n",
       "26                 0                 0          None      None       0   \n",
       "27                 0                 0          None      None       0   \n",
       "31                 0                 0          None      None       0   \n",
       "32                 0                 0          None      None       0   \n",
       "\n",
       "             ...            _number_diagnoses_=_15.0 _number_diagnoses_=_16.0  \\\n",
       "12           ...                                   0                        0   \n",
       "26           ...                                   0                        0   \n",
       "27           ...                                   0                        0   \n",
       "31           ...                                   0                        0   \n",
       "32           ...                                   0                        0   \n",
       "\n",
       "    _number_diagnoses_=_2.0  _number_diagnoses_=_3.0  _number_diagnoses_=_4.0  \\\n",
       "12                        0                        0                        0   \n",
       "26                        0                        1                        0   \n",
       "27                        0                        0                        0   \n",
       "31                        0                        0                        0   \n",
       "32                        0                        0                        0   \n",
       "\n",
       "    _number_diagnoses_=_5.0  _number_diagnoses_=_6.0  _number_diagnoses_=_7.0  \\\n",
       "12                        0                        0                        0   \n",
       "26                        0                        0                        0   \n",
       "27                        0                        1                        0   \n",
       "31                        0                        0                        0   \n",
       "32                        0                        0                        0   \n",
       "\n",
       "    _number_diagnoses_=_8.0  _number_diagnoses_=_9.0  \n",
       "12                        1                        0  \n",
       "26                        0                        0  \n",
       "27                        0                        0  \n",
       "31                        1                        0  \n",
       "32                        1                        0  \n",
       "\n",
       "[5 rows x 2138 columns]"
      ]
     },
     "execution_count": 27,
     "metadata": {},
     "output_type": "execute_result"
    }
   ],
   "source": [
    "df_encoded.head()"
   ]
  },
  {
   "cell_type": "code",
   "execution_count": 28,
   "metadata": {
    "collapsed": false
   },
   "outputs": [],
   "source": [
    "exclusions = \"\"\"Payer_code\n",
    "Weight\n",
    "Number_outpatient\n",
    "Number_emergency\n",
    "Number_inpatient\n",
    "Max_glu_serum\n",
    "A1Cresult\"\"\""
   ]
  },
  {
   "cell_type": "code",
   "execution_count": 29,
   "metadata": {
    "collapsed": false
   },
   "outputs": [
    {
     "name": "stdout",
     "output_type": "stream",
     "text": [
      "['payer_code', 'weight', 'number_outpatient', 'number_emergency', 'number_inpatient', 'max_glu_serum', 'A1Cresult']\n"
     ]
    }
   ],
   "source": [
    "exclusions_arr = exclusions.split('\\n')\n",
    "exclusions_arr = [x.lower().strip() for x in exclusions_arr]\n",
    "a1c = exclusions_arr.index(\"a1cresult\")\n",
    "exclusions_arr.pop(a1c)\n",
    "exclusions_arr.append(\"A1Cresult\")\n",
    "\n",
    "print exclusions_arr\n",
    "df_encoded.drop(exclusions_arr, axis=1,inplace=True)"
   ]
  },
  {
   "cell_type": "code",
   "execution_count": 30,
   "metadata": {
    "collapsed": false
   },
   "outputs": [
    {
     "data": {
      "text/html": [
       "<div>\n",
       "<table border=\"1\" class=\"dataframe\">\n",
       "  <thead>\n",
       "    <tr style=\"text-align: right;\">\n",
       "      <th></th>\n",
       "      <th>encounter_id</th>\n",
       "      <th>patient_nbr</th>\n",
       "      <th>ra_map</th>\n",
       "      <th>multi_entries</th>\n",
       "      <th>next_encounter_exists</th>\n",
       "      <th>next_encounter_id</th>\n",
       "      <th>encounter_delta</th>\n",
       "      <th>_race_=_?</th>\n",
       "      <th>_race_=_AfricanAmerican</th>\n",
       "      <th>_race_=_Asian</th>\n",
       "      <th>...</th>\n",
       "      <th>_number_diagnoses_=_15.0</th>\n",
       "      <th>_number_diagnoses_=_16.0</th>\n",
       "      <th>_number_diagnoses_=_2.0</th>\n",
       "      <th>_number_diagnoses_=_3.0</th>\n",
       "      <th>_number_diagnoses_=_4.0</th>\n",
       "      <th>_number_diagnoses_=_5.0</th>\n",
       "      <th>_number_diagnoses_=_6.0</th>\n",
       "      <th>_number_diagnoses_=_7.0</th>\n",
       "      <th>_number_diagnoses_=_8.0</th>\n",
       "      <th>_number_diagnoses_=_9.0</th>\n",
       "    </tr>\n",
       "  </thead>\n",
       "  <tbody>\n",
       "    <tr>\n",
       "      <th>12</th>\n",
       "      <td>40926</td>\n",
       "      <td>85504905</td>\n",
       "      <td>2</td>\n",
       "      <td>yes</td>\n",
       "      <td>True</td>\n",
       "      <td>76387002</td>\n",
       "      <td>76346076</td>\n",
       "      <td>0</td>\n",
       "      <td>0</td>\n",
       "      <td>0</td>\n",
       "      <td>...</td>\n",
       "      <td>0</td>\n",
       "      <td>0</td>\n",
       "      <td>0</td>\n",
       "      <td>0</td>\n",
       "      <td>0</td>\n",
       "      <td>0</td>\n",
       "      <td>0</td>\n",
       "      <td>0</td>\n",
       "      <td>1</td>\n",
       "      <td>0</td>\n",
       "    </tr>\n",
       "    <tr>\n",
       "      <th>26</th>\n",
       "      <td>248916</td>\n",
       "      <td>115196778</td>\n",
       "      <td>0</td>\n",
       "      <td>yes</td>\n",
       "      <td>True</td>\n",
       "      <td>6068238</td>\n",
       "      <td>5819322</td>\n",
       "      <td>0</td>\n",
       "      <td>0</td>\n",
       "      <td>0</td>\n",
       "      <td>...</td>\n",
       "      <td>0</td>\n",
       "      <td>0</td>\n",
       "      <td>0</td>\n",
       "      <td>1</td>\n",
       "      <td>0</td>\n",
       "      <td>0</td>\n",
       "      <td>0</td>\n",
       "      <td>0</td>\n",
       "      <td>0</td>\n",
       "      <td>0</td>\n",
       "    </tr>\n",
       "    <tr>\n",
       "      <th>27</th>\n",
       "      <td>250872</td>\n",
       "      <td>41606064</td>\n",
       "      <td>0</td>\n",
       "      <td>yes</td>\n",
       "      <td>True</td>\n",
       "      <td>2309376</td>\n",
       "      <td>2058504</td>\n",
       "      <td>0</td>\n",
       "      <td>0</td>\n",
       "      <td>0</td>\n",
       "      <td>...</td>\n",
       "      <td>0</td>\n",
       "      <td>0</td>\n",
       "      <td>0</td>\n",
       "      <td>0</td>\n",
       "      <td>0</td>\n",
       "      <td>0</td>\n",
       "      <td>1</td>\n",
       "      <td>0</td>\n",
       "      <td>0</td>\n",
       "      <td>0</td>\n",
       "    </tr>\n",
       "    <tr>\n",
       "      <th>31</th>\n",
       "      <td>260166</td>\n",
       "      <td>80845353</td>\n",
       "      <td>0</td>\n",
       "      <td>yes</td>\n",
       "      <td>True</td>\n",
       "      <td>6000072</td>\n",
       "      <td>5739906</td>\n",
       "      <td>0</td>\n",
       "      <td>0</td>\n",
       "      <td>0</td>\n",
       "      <td>...</td>\n",
       "      <td>0</td>\n",
       "      <td>0</td>\n",
       "      <td>0</td>\n",
       "      <td>0</td>\n",
       "      <td>0</td>\n",
       "      <td>0</td>\n",
       "      <td>0</td>\n",
       "      <td>0</td>\n",
       "      <td>1</td>\n",
       "      <td>0</td>\n",
       "    </tr>\n",
       "    <tr>\n",
       "      <th>32</th>\n",
       "      <td>293058</td>\n",
       "      <td>114715242</td>\n",
       "      <td>0</td>\n",
       "      <td>yes</td>\n",
       "      <td>True</td>\n",
       "      <td>31409370</td>\n",
       "      <td>31116312</td>\n",
       "      <td>0</td>\n",
       "      <td>0</td>\n",
       "      <td>0</td>\n",
       "      <td>...</td>\n",
       "      <td>0</td>\n",
       "      <td>0</td>\n",
       "      <td>0</td>\n",
       "      <td>0</td>\n",
       "      <td>0</td>\n",
       "      <td>0</td>\n",
       "      <td>0</td>\n",
       "      <td>0</td>\n",
       "      <td>1</td>\n",
       "      <td>0</td>\n",
       "    </tr>\n",
       "  </tbody>\n",
       "</table>\n",
       "<p>5 rows × 2131 columns</p>\n",
       "</div>"
      ],
      "text/plain": [
       "    encounter_id  patient_nbr  ra_map multi_entries next_encounter_exists  \\\n",
       "12         40926     85504905       2           yes                  True   \n",
       "26        248916    115196778       0           yes                  True   \n",
       "27        250872     41606064       0           yes                  True   \n",
       "31        260166     80845353       0           yes                  True   \n",
       "32        293058    114715242       0           yes                  True   \n",
       "\n",
       "    next_encounter_id  encounter_delta  _race_=_?  _race_=_AfricanAmerican  \\\n",
       "12           76387002         76346076          0                        0   \n",
       "26            6068238          5819322          0                        0   \n",
       "27            2309376          2058504          0                        0   \n",
       "31            6000072          5739906          0                        0   \n",
       "32           31409370         31116312          0                        0   \n",
       "\n",
       "    _race_=_Asian           ...             _number_diagnoses_=_15.0  \\\n",
       "12              0           ...                                    0   \n",
       "26              0           ...                                    0   \n",
       "27              0           ...                                    0   \n",
       "31              0           ...                                    0   \n",
       "32              0           ...                                    0   \n",
       "\n",
       "    _number_diagnoses_=_16.0  _number_diagnoses_=_2.0  \\\n",
       "12                         0                        0   \n",
       "26                         0                        0   \n",
       "27                         0                        0   \n",
       "31                         0                        0   \n",
       "32                         0                        0   \n",
       "\n",
       "    _number_diagnoses_=_3.0  _number_diagnoses_=_4.0  _number_diagnoses_=_5.0  \\\n",
       "12                        0                        0                        0   \n",
       "26                        1                        0                        0   \n",
       "27                        0                        0                        0   \n",
       "31                        0                        0                        0   \n",
       "32                        0                        0                        0   \n",
       "\n",
       "    _number_diagnoses_=_6.0  _number_diagnoses_=_7.0  _number_diagnoses_=_8.0  \\\n",
       "12                        0                        0                        1   \n",
       "26                        0                        0                        0   \n",
       "27                        1                        0                        0   \n",
       "31                        0                        0                        1   \n",
       "32                        0                        0                        1   \n",
       "\n",
       "    _number_diagnoses_=_9.0  \n",
       "12                        0  \n",
       "26                        0  \n",
       "27                        0  \n",
       "31                        0  \n",
       "32                        0  \n",
       "\n",
       "[5 rows x 2131 columns]"
      ]
     },
     "execution_count": 30,
     "metadata": {},
     "output_type": "execute_result"
    }
   ],
   "source": [
    "df_encoded.head()"
   ]
  },
  {
   "cell_type": "code",
   "execution_count": 31,
   "metadata": {
    "collapsed": true
   },
   "outputs": [],
   "source": [
    "features = [feat for feat in df_encoded.columns if feat not in ['encounter_id', 'patient_nbr', 'ra_map', 'multi_entries', 'next_encounter_exists', 'next_encounter_id', 'encounter_delta']]"
   ]
  },
  {
   "cell_type": "code",
   "execution_count": 32,
   "metadata": {
    "collapsed": true
   },
   "outputs": [],
   "source": [
    "x = df_encoded[features].values\n",
    "y = df_encoded[\"encounter_delta\"].values"
   ]
  },
  {
   "cell_type": "code",
   "execution_count": 33,
   "metadata": {
    "collapsed": false
   },
   "outputs": [],
   "source": [
    "split = int(len(x)*0.7)\n",
    "x_train = x[:split]\n",
    "x_test = x[split:]\n",
    "y_train = y[:split]\n",
    "y_test = y[split:]"
   ]
  },
  {
   "cell_type": "code",
   "execution_count": 42,
   "metadata": {
    "collapsed": true
   },
   "outputs": [],
   "source": [
    "linreg = LinearRegression(fit_intercept=False)"
   ]
  },
  {
   "cell_type": "code",
   "execution_count": 43,
   "metadata": {
    "collapsed": false
   },
   "outputs": [
    {
     "data": {
      "text/plain": [
       "LinearRegression(copy_X=True, fit_intercept=False, n_jobs=1, normalize=False)"
      ]
     },
     "execution_count": 43,
     "metadata": {},
     "output_type": "execute_result"
    }
   ],
   "source": [
    "linreg.fit(x_train, y_train)"
   ]
  },
  {
   "cell_type": "code",
   "execution_count": 44,
   "metadata": {
    "collapsed": false
   },
   "outputs": [
    {
     "name": "stdout",
     "output_type": "stream",
     "text": [
      "Linear Regression\n",
      "root mean squared: 9.12815494918e+17\n"
     ]
    }
   ],
   "source": [
    "prediction = linreg.predict(x_test)\n",
    "print \"Linear Regression\"\n",
    "print \"root mean squared: %s\" % mean_squared_error(y_test, prediction)**(1/2)"
   ]
  },
  {
   "cell_type": "code",
   "execution_count": 235,
   "metadata": {
    "collapsed": false
   },
   "outputs": [
    {
     "name": "stdout",
     "output_type": "stream",
     "text": [
      "[LibLinear]"
     ]
    },
    {
     "data": {
      "text/plain": [
       "LinearSVR(C=1.0, dual=True, epsilon=0.0, fit_intercept=True,\n",
       "     intercept_scaling=1.0, loss='epsilon_insensitive', max_iter=1000,\n",
       "     random_state=None, tol=0.0001, verbose=2)"
      ]
     },
     "execution_count": 235,
     "metadata": {},
     "output_type": "execute_result"
    }
   ],
   "source": [
    "svr.fit(x_train, y_train)"
   ]
  },
  {
   "cell_type": "code",
   "execution_count": 237,
   "metadata": {
    "collapsed": false
   },
   "outputs": [
    {
     "name": "stdout",
     "output_type": "stream",
     "text": [
      "39298509.4994\n",
      "-0.739165660145\n"
     ]
    }
   ],
   "source": [
    "prediction = svr.predict(x_test)\n",
    "print \"Support Vector Regressor\"\n",
    "print \"root mean squared: %s\" % mean_squared_error(y_test, prediction)**(-1/2)"
   ]
  },
  {
   "cell_type": "code",
   "execution_count": 238,
   "metadata": {
    "collapsed": false
   },
   "outputs": [
    {
     "name": "stdout",
     "output_type": "stream",
     "text": [
      "building tree 1 of 10\n",
      "building tree 2 of 10\n",
      "building tree 3 of 10\n",
      "building tree 4 of 10\n",
      "building tree 5 of 10\n",
      "building tree 6 of 10\n",
      "building tree 7 of 10\n",
      "building tree 8 of 10\n",
      "building tree 9 of 10\n",
      "building tree 10 of 10"
     ]
    },
    {
     "name": "stderr",
     "output_type": "stream",
     "text": [
      "[Parallel(n_jobs=1)]: Done  10 out of  10 | elapsed:   51.2s finished\n",
      "[Parallel(n_jobs=1)]: Done  10 out of  10 | elapsed:    0.1s finished\n"
     ]
    },
    {
     "name": "stdout",
     "output_type": "stream",
     "text": [
      "\n",
      "31321803.7198\n",
      "-0.150853593243\n"
     ]
    }
   ],
   "source": [
    "rf_reg = RandomForestRegressor(verbose=2)\n",
    "rf_reg.fit(x_train, y_train)\n",
    "prediction = rf_reg.predict(x_test)\n",
    "print \"root mean squared: %s\" % sqrt(mean_squared_error(y_test, prediction))"
   ]
  }
 ],
 "metadata": {
  "kernelspec": {
   "display_name": "Python 2",
   "language": "python",
   "name": "python2"
  },
  "language_info": {
   "codemirror_mode": {
    "name": "ipython",
    "version": 2
   },
   "file_extension": ".py",
   "mimetype": "text/x-python",
   "name": "python",
   "nbconvert_exporter": "python",
   "pygments_lexer": "ipython2",
   "version": "2.7.10"
  }
 },
 "nbformat": 4,
 "nbformat_minor": 0
}
